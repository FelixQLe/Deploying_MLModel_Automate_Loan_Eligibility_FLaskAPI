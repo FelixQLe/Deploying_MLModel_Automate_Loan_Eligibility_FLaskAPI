{
 "cells": [
  {
   "cell_type": "markdown",
   "id": "e4609728",
   "metadata": {},
   "source": [
    "# Loan predictions\n",
    "\n",
    "## Problem Statement\n",
    "\n",
    "We want to automate the loan eligibility process based on customer details that are provided as online application forms are being filled. You can find the dataset [here](https://drive.google.com/file/d/1h_jl9xqqqHflI5PsuiQd_soNYxzFfjKw/view?usp=sharing). These details concern the customer's Gender, Marital Status, Education, Number of Dependents, Income, Loan Amount, Credit History and other things as well. \n",
    "\n",
    "|Variable| Description|\n",
    "|: ------------- |:-------------|\n",
    "|Loan_ID| Unique Loan ID|\n",
    "|Gender| Male/ Female|\n",
    "|Married| Applicant married (Y/N)|\n",
    "|Dependents| Number of dependents|\n",
    "|Education| Applicant Education (Graduate/ Under Graduate)|\n",
    "|Self_Employed| Self employed (Y/N)|\n",
    "|ApplicantIncome| Applicant income|\n",
    "|CoapplicantIncome| Coapplicant income|\n",
    "|LoanAmount| Loan amount in thousands|\n",
    "|Loan_Amount_Term| Term of loan in months|\n",
    "|Credit_History| credit history meets guidelines|\n",
    "|Property_Area| Urban/ Semi Urban/ Rural|\n",
    "|Loan_Status| Loan approved (Y/N)\n"
   ]
  },
  {
   "cell_type": "markdown",
   "id": "f46c3e9a",
   "metadata": {},
   "source": [
    "## 1. Exploring data and perform initial cleaning"
   ]
  },
  {
   "cell_type": "code",
   "execution_count": 243,
   "id": "bc432f67",
   "metadata": {},
   "outputs": [
    {
     "data": {
      "text/html": [
       "<div>\n",
       "<style scoped>\n",
       "    .dataframe tbody tr th:only-of-type {\n",
       "        vertical-align: middle;\n",
       "    }\n",
       "\n",
       "    .dataframe tbody tr th {\n",
       "        vertical-align: top;\n",
       "    }\n",
       "\n",
       "    .dataframe thead th {\n",
       "        text-align: right;\n",
       "    }\n",
       "</style>\n",
       "<table border=\"1\" class=\"dataframe\">\n",
       "  <thead>\n",
       "    <tr style=\"text-align: right;\">\n",
       "      <th></th>\n",
       "      <th>Loan_ID</th>\n",
       "      <th>Gender</th>\n",
       "      <th>Married</th>\n",
       "      <th>Dependents</th>\n",
       "      <th>Education</th>\n",
       "      <th>Self_Employed</th>\n",
       "      <th>ApplicantIncome</th>\n",
       "      <th>CoapplicantIncome</th>\n",
       "      <th>LoanAmount</th>\n",
       "      <th>Loan_Amount_Term</th>\n",
       "      <th>Credit_History</th>\n",
       "      <th>Property_Area</th>\n",
       "      <th>Loan_Status</th>\n",
       "    </tr>\n",
       "  </thead>\n",
       "  <tbody>\n",
       "    <tr>\n",
       "      <th>0</th>\n",
       "      <td>LP001002</td>\n",
       "      <td>Male</td>\n",
       "      <td>No</td>\n",
       "      <td>0</td>\n",
       "      <td>Graduate</td>\n",
       "      <td>No</td>\n",
       "      <td>5849</td>\n",
       "      <td>0.0</td>\n",
       "      <td>NaN</td>\n",
       "      <td>360.0</td>\n",
       "      <td>1.0</td>\n",
       "      <td>Urban</td>\n",
       "      <td>Y</td>\n",
       "    </tr>\n",
       "    <tr>\n",
       "      <th>1</th>\n",
       "      <td>LP001003</td>\n",
       "      <td>Male</td>\n",
       "      <td>Yes</td>\n",
       "      <td>1</td>\n",
       "      <td>Graduate</td>\n",
       "      <td>No</td>\n",
       "      <td>4583</td>\n",
       "      <td>1508.0</td>\n",
       "      <td>128.0</td>\n",
       "      <td>360.0</td>\n",
       "      <td>1.0</td>\n",
       "      <td>Rural</td>\n",
       "      <td>N</td>\n",
       "    </tr>\n",
       "    <tr>\n",
       "      <th>2</th>\n",
       "      <td>LP001005</td>\n",
       "      <td>Male</td>\n",
       "      <td>Yes</td>\n",
       "      <td>0</td>\n",
       "      <td>Graduate</td>\n",
       "      <td>Yes</td>\n",
       "      <td>3000</td>\n",
       "      <td>0.0</td>\n",
       "      <td>66.0</td>\n",
       "      <td>360.0</td>\n",
       "      <td>1.0</td>\n",
       "      <td>Urban</td>\n",
       "      <td>Y</td>\n",
       "    </tr>\n",
       "    <tr>\n",
       "      <th>3</th>\n",
       "      <td>LP001006</td>\n",
       "      <td>Male</td>\n",
       "      <td>Yes</td>\n",
       "      <td>0</td>\n",
       "      <td>Not Graduate</td>\n",
       "      <td>No</td>\n",
       "      <td>2583</td>\n",
       "      <td>2358.0</td>\n",
       "      <td>120.0</td>\n",
       "      <td>360.0</td>\n",
       "      <td>1.0</td>\n",
       "      <td>Urban</td>\n",
       "      <td>Y</td>\n",
       "    </tr>\n",
       "    <tr>\n",
       "      <th>4</th>\n",
       "      <td>LP001008</td>\n",
       "      <td>Male</td>\n",
       "      <td>No</td>\n",
       "      <td>0</td>\n",
       "      <td>Graduate</td>\n",
       "      <td>No</td>\n",
       "      <td>6000</td>\n",
       "      <td>0.0</td>\n",
       "      <td>141.0</td>\n",
       "      <td>360.0</td>\n",
       "      <td>1.0</td>\n",
       "      <td>Urban</td>\n",
       "      <td>Y</td>\n",
       "    </tr>\n",
       "  </tbody>\n",
       "</table>\n",
       "</div>"
      ],
      "text/plain": [
       "    Loan_ID Gender Married Dependents     Education Self_Employed  \\\n",
       "0  LP001002   Male      No          0      Graduate            No   \n",
       "1  LP001003   Male     Yes          1      Graduate            No   \n",
       "2  LP001005   Male     Yes          0      Graduate           Yes   \n",
       "3  LP001006   Male     Yes          0  Not Graduate            No   \n",
       "4  LP001008   Male      No          0      Graduate            No   \n",
       "\n",
       "   ApplicantIncome  CoapplicantIncome  LoanAmount  Loan_Amount_Term  \\\n",
       "0             5849                0.0         NaN             360.0   \n",
       "1             4583             1508.0       128.0             360.0   \n",
       "2             3000                0.0        66.0             360.0   \n",
       "3             2583             2358.0       120.0             360.0   \n",
       "4             6000                0.0       141.0             360.0   \n",
       "\n",
       "   Credit_History Property_Area Loan_Status  \n",
       "0             1.0         Urban           Y  \n",
       "1             1.0         Rural           N  \n",
       "2             1.0         Urban           Y  \n",
       "3             1.0         Urban           Y  \n",
       "4             1.0         Urban           Y  "
      ]
     },
     "execution_count": 243,
     "metadata": {},
     "output_type": "execute_result"
    }
   ],
   "source": [
    "import pandas as pd\n",
    "import numpy as np\n",
    "#from matplotlib import pyplot as plt\n",
    "#import seaborn as sns\n",
    "\n",
    "df = pd.read_csv(\"/Users/hople/Desktop/Bootcamp Lectures/week_7/mini-project-4/data/data.csv\") \n",
    "df.head(5)"
   ]
  },
  {
   "cell_type": "markdown",
   "id": "5e60a557",
   "metadata": {},
   "source": [
    "### Investigating Null values"
   ]
  },
  {
   "cell_type": "code",
   "execution_count": 244,
   "id": "8bbe1890",
   "metadata": {},
   "outputs": [
    {
     "data": {
      "text/plain": [
       "Loan_ID              0.000000\n",
       "Gender               2.117264\n",
       "Married              0.488599\n",
       "Dependents           2.442997\n",
       "Education            0.000000\n",
       "Self_Employed        5.211726\n",
       "ApplicantIncome      0.000000\n",
       "CoapplicantIncome    0.000000\n",
       "LoanAmount           3.583062\n",
       "Loan_Amount_Term     2.280130\n",
       "Credit_History       8.143322\n",
       "Property_Area        0.000000\n",
       "Loan_Status          0.000000\n",
       "dtype: float64"
      ]
     },
     "execution_count": 244,
     "metadata": {},
     "output_type": "execute_result"
    }
   ],
   "source": [
    "#missing values percentages\n",
    "df.isnull().sum()/len(df)*100"
   ]
  },
  {
   "cell_type": "markdown",
   "id": "4ef62488",
   "metadata": {},
   "source": [
    "### Dropping columns has no power of prediction\n",
    "* Our prediction based on informations around Applicants, I will drop Loan_ID"
   ]
  },
  {
   "cell_type": "code",
   "execution_count": 245,
   "id": "4ef67413",
   "metadata": {},
   "outputs": [],
   "source": [
    "df = df.drop(columns='Loan_ID')"
   ]
  },
  {
   "cell_type": "markdown",
   "id": "dddd0be2",
   "metadata": {},
   "source": [
    "### Null treatments\n",
    "* Gender will be filled with mode()\n",
    "* Credit_history use median()\n",
    "* Loan_Amount missing values, I will use mean()\n",
    "* Self_employed will be filled with No\n",
    "* Dependencies will be filled with mode()\n",
    "* fillna Married with mode()\n",
    "* Load_Amount_Term will fill NaN with median()"
   ]
  },
  {
   "cell_type": "code",
   "execution_count": 246,
   "id": "9b1b70f2",
   "metadata": {},
   "outputs": [
    {
     "data": {
      "text/html": [
       "<div>\n",
       "<style scoped>\n",
       "    .dataframe tbody tr th:only-of-type {\n",
       "        vertical-align: middle;\n",
       "    }\n",
       "\n",
       "    .dataframe tbody tr th {\n",
       "        vertical-align: top;\n",
       "    }\n",
       "\n",
       "    .dataframe thead th {\n",
       "        text-align: right;\n",
       "    }\n",
       "</style>\n",
       "<table border=\"1\" class=\"dataframe\">\n",
       "  <thead>\n",
       "    <tr style=\"text-align: right;\">\n",
       "      <th></th>\n",
       "      <th>Gender</th>\n",
       "      <th>Married</th>\n",
       "      <th>Dependents</th>\n",
       "      <th>Education</th>\n",
       "      <th>Self_Employed</th>\n",
       "      <th>ApplicantIncome</th>\n",
       "      <th>CoapplicantIncome</th>\n",
       "      <th>LoanAmount</th>\n",
       "      <th>Loan_Amount_Term</th>\n",
       "      <th>Credit_History</th>\n",
       "      <th>Property_Area</th>\n",
       "      <th>Loan_Status</th>\n",
       "    </tr>\n",
       "  </thead>\n",
       "  <tbody>\n",
       "    <tr>\n",
       "      <th>0</th>\n",
       "      <td>Male</td>\n",
       "      <td>No</td>\n",
       "      <td>0</td>\n",
       "      <td>Graduate</td>\n",
       "      <td>No</td>\n",
       "      <td>5849</td>\n",
       "      <td>0.0</td>\n",
       "      <td>NaN</td>\n",
       "      <td>360.0</td>\n",
       "      <td>1.0</td>\n",
       "      <td>Urban</td>\n",
       "      <td>Y</td>\n",
       "    </tr>\n",
       "    <tr>\n",
       "      <th>1</th>\n",
       "      <td>Male</td>\n",
       "      <td>Yes</td>\n",
       "      <td>1</td>\n",
       "      <td>Graduate</td>\n",
       "      <td>No</td>\n",
       "      <td>4583</td>\n",
       "      <td>1508.0</td>\n",
       "      <td>128.0</td>\n",
       "      <td>360.0</td>\n",
       "      <td>1.0</td>\n",
       "      <td>Rural</td>\n",
       "      <td>N</td>\n",
       "    </tr>\n",
       "    <tr>\n",
       "      <th>2</th>\n",
       "      <td>Male</td>\n",
       "      <td>Yes</td>\n",
       "      <td>0</td>\n",
       "      <td>Graduate</td>\n",
       "      <td>Yes</td>\n",
       "      <td>3000</td>\n",
       "      <td>0.0</td>\n",
       "      <td>66.0</td>\n",
       "      <td>360.0</td>\n",
       "      <td>1.0</td>\n",
       "      <td>Urban</td>\n",
       "      <td>Y</td>\n",
       "    </tr>\n",
       "    <tr>\n",
       "      <th>3</th>\n",
       "      <td>Male</td>\n",
       "      <td>Yes</td>\n",
       "      <td>0</td>\n",
       "      <td>Not Graduate</td>\n",
       "      <td>No</td>\n",
       "      <td>2583</td>\n",
       "      <td>2358.0</td>\n",
       "      <td>120.0</td>\n",
       "      <td>360.0</td>\n",
       "      <td>1.0</td>\n",
       "      <td>Urban</td>\n",
       "      <td>Y</td>\n",
       "    </tr>\n",
       "    <tr>\n",
       "      <th>4</th>\n",
       "      <td>Male</td>\n",
       "      <td>No</td>\n",
       "      <td>0</td>\n",
       "      <td>Graduate</td>\n",
       "      <td>No</td>\n",
       "      <td>6000</td>\n",
       "      <td>0.0</td>\n",
       "      <td>141.0</td>\n",
       "      <td>360.0</td>\n",
       "      <td>1.0</td>\n",
       "      <td>Urban</td>\n",
       "      <td>Y</td>\n",
       "    </tr>\n",
       "  </tbody>\n",
       "</table>\n",
       "</div>"
      ],
      "text/plain": [
       "  Gender Married Dependents     Education Self_Employed  ApplicantIncome  \\\n",
       "0   Male      No          0      Graduate            No             5849   \n",
       "1   Male     Yes          1      Graduate            No             4583   \n",
       "2   Male     Yes          0      Graduate           Yes             3000   \n",
       "3   Male     Yes          0  Not Graduate            No             2583   \n",
       "4   Male      No          0      Graduate            No             6000   \n",
       "\n",
       "   CoapplicantIncome  LoanAmount  Loan_Amount_Term  Credit_History  \\\n",
       "0                0.0         NaN             360.0             1.0   \n",
       "1             1508.0       128.0             360.0             1.0   \n",
       "2                0.0        66.0             360.0             1.0   \n",
       "3             2358.0       120.0             360.0             1.0   \n",
       "4                0.0       141.0             360.0             1.0   \n",
       "\n",
       "  Property_Area Loan_Status  \n",
       "0         Urban           Y  \n",
       "1         Rural           N  \n",
       "2         Urban           Y  \n",
       "3         Urban           Y  \n",
       "4         Urban           Y  "
      ]
     },
     "execution_count": 246,
     "metadata": {},
     "output_type": "execute_result"
    }
   ],
   "source": [
    "df.head(5)"
   ]
  },
  {
   "cell_type": "code",
   "execution_count": 247,
   "id": "9a39e48d",
   "metadata": {},
   "outputs": [],
   "source": [
    "#fillna technique\n",
    "df['Gender'].fillna(df['Gender'].mode().iloc[0], inplace=True)\n",
    "df['Credit_History'].fillna(df['Credit_History'].mode().iloc[0], inplace=True)\n",
    "df['LoanAmount'].fillna(float(round(df['LoanAmount'].mean(), 0)), inplace=True)\n",
    "df['Self_Employed'].fillna(\"No\", inplace=True)\n",
    "df['Dependents'].fillna(df['Dependents'].mode().iloc[0], inplace=True)\n",
    "df['Married'].fillna(df['Married'].mode().iloc[0], inplace=True)\n",
    "df['Loan_Amount_Term'].fillna(df['Loan_Amount_Term'].median(), inplace=True)\n",
    "#df[\"value\"] = df.groupby(\"name\").transform(lambda x: x.fillna(x.mean()))\n",
    "df['LoanAmount'] = df['LoanAmount'].astype(int)"
   ]
  },
  {
   "cell_type": "code",
   "execution_count": 248,
   "id": "baee038d",
   "metadata": {},
   "outputs": [],
   "source": []
  },
  {
   "cell_type": "code",
   "execution_count": 249,
   "id": "00bdea00",
   "metadata": {},
   "outputs": [
    {
     "data": {
      "text/plain": [
       "Gender               0.0\n",
       "Married              0.0\n",
       "Dependents           0.0\n",
       "Education            0.0\n",
       "Self_Employed        0.0\n",
       "ApplicantIncome      0.0\n",
       "CoapplicantIncome    0.0\n",
       "LoanAmount           0.0\n",
       "Loan_Amount_Term     0.0\n",
       "Credit_History       0.0\n",
       "Property_Area        0.0\n",
       "Loan_Status          0.0\n",
       "dtype: float64"
      ]
     },
     "execution_count": 249,
     "metadata": {},
     "output_type": "execute_result"
    }
   ],
   "source": [
    "#checking missing values again\n",
    "df.isnull().sum()/len(df)*100"
   ]
  },
  {
   "cell_type": "markdown",
   "id": "32652f9e",
   "metadata": {},
   "source": [
    "## Seperate categories and numeric columns\n",
    "** To see any unsual values"
   ]
  },
  {
   "cell_type": "code",
   "execution_count": 250,
   "id": "b25aed88",
   "metadata": {},
   "outputs": [
    {
     "data": {
      "text/plain": [
       "Gender                object\n",
       "Married               object\n",
       "Dependents            object\n",
       "Education             object\n",
       "Self_Employed         object\n",
       "ApplicantIncome        int64\n",
       "CoapplicantIncome    float64\n",
       "LoanAmount             int64\n",
       "Loan_Amount_Term     float64\n",
       "Credit_History       float64\n",
       "Property_Area         object\n",
       "Loan_Status           object\n",
       "dtype: object"
      ]
     },
     "execution_count": 250,
     "metadata": {},
     "output_type": "execute_result"
    }
   ],
   "source": [
    "#getting dtypes\n",
    "df.dtypes"
   ]
  },
  {
   "cell_type": "code",
   "execution_count": 251,
   "id": "a9baaa0c",
   "metadata": {},
   "outputs": [],
   "source": [
    "categories = ['object']\n",
    "numerics = ['int64', 'float64']\n",
    "\n",
    "df_categories = df.select_dtypes(include=categories)\n",
    "df_numerics = df.select_dtypes(include=numerics)"
   ]
  },
  {
   "cell_type": "code",
   "execution_count": 252,
   "id": "324fb384",
   "metadata": {},
   "outputs": [
    {
     "data": {
      "text/html": [
       "<div>\n",
       "<style scoped>\n",
       "    .dataframe tbody tr th:only-of-type {\n",
       "        vertical-align: middle;\n",
       "    }\n",
       "\n",
       "    .dataframe tbody tr th {\n",
       "        vertical-align: top;\n",
       "    }\n",
       "\n",
       "    .dataframe thead th {\n",
       "        text-align: right;\n",
       "    }\n",
       "</style>\n",
       "<table border=\"1\" class=\"dataframe\">\n",
       "  <thead>\n",
       "    <tr style=\"text-align: right;\">\n",
       "      <th></th>\n",
       "      <th>Gender</th>\n",
       "      <th>Married</th>\n",
       "      <th>Dependents</th>\n",
       "      <th>Education</th>\n",
       "      <th>Self_Employed</th>\n",
       "      <th>Property_Area</th>\n",
       "      <th>Loan_Status</th>\n",
       "    </tr>\n",
       "  </thead>\n",
       "  <tbody>\n",
       "    <tr>\n",
       "      <th>count</th>\n",
       "      <td>614</td>\n",
       "      <td>614</td>\n",
       "      <td>614</td>\n",
       "      <td>614</td>\n",
       "      <td>614</td>\n",
       "      <td>614</td>\n",
       "      <td>614</td>\n",
       "    </tr>\n",
       "    <tr>\n",
       "      <th>unique</th>\n",
       "      <td>2</td>\n",
       "      <td>2</td>\n",
       "      <td>4</td>\n",
       "      <td>2</td>\n",
       "      <td>2</td>\n",
       "      <td>3</td>\n",
       "      <td>2</td>\n",
       "    </tr>\n",
       "    <tr>\n",
       "      <th>top</th>\n",
       "      <td>Male</td>\n",
       "      <td>Yes</td>\n",
       "      <td>0</td>\n",
       "      <td>Graduate</td>\n",
       "      <td>No</td>\n",
       "      <td>Semiurban</td>\n",
       "      <td>Y</td>\n",
       "    </tr>\n",
       "    <tr>\n",
       "      <th>freq</th>\n",
       "      <td>502</td>\n",
       "      <td>401</td>\n",
       "      <td>360</td>\n",
       "      <td>480</td>\n",
       "      <td>532</td>\n",
       "      <td>233</td>\n",
       "      <td>422</td>\n",
       "    </tr>\n",
       "  </tbody>\n",
       "</table>\n",
       "</div>"
      ],
      "text/plain": [
       "       Gender Married Dependents Education Self_Employed Property_Area  \\\n",
       "count     614     614        614       614           614           614   \n",
       "unique      2       2          4         2             2             3   \n",
       "top      Male     Yes          0  Graduate            No     Semiurban   \n",
       "freq      502     401        360       480           532           233   \n",
       "\n",
       "       Loan_Status  \n",
       "count          614  \n",
       "unique           2  \n",
       "top              Y  \n",
       "freq           422  "
      ]
     },
     "execution_count": 252,
     "metadata": {},
     "output_type": "execute_result"
    }
   ],
   "source": [
    "#use describe to understand the categories columns\n",
    "df_categories.describe()"
   ]
  },
  {
   "cell_type": "code",
   "execution_count": 253,
   "id": "546e958f",
   "metadata": {},
   "outputs": [
    {
     "data": {
      "text/html": [
       "<div>\n",
       "<style scoped>\n",
       "    .dataframe tbody tr th:only-of-type {\n",
       "        vertical-align: middle;\n",
       "    }\n",
       "\n",
       "    .dataframe tbody tr th {\n",
       "        vertical-align: top;\n",
       "    }\n",
       "\n",
       "    .dataframe thead th {\n",
       "        text-align: right;\n",
       "    }\n",
       "</style>\n",
       "<table border=\"1\" class=\"dataframe\">\n",
       "  <thead>\n",
       "    <tr style=\"text-align: right;\">\n",
       "      <th></th>\n",
       "      <th>ApplicantIncome</th>\n",
       "      <th>CoapplicantIncome</th>\n",
       "      <th>LoanAmount</th>\n",
       "      <th>Loan_Amount_Term</th>\n",
       "      <th>Credit_History</th>\n",
       "    </tr>\n",
       "  </thead>\n",
       "  <tbody>\n",
       "    <tr>\n",
       "      <th>count</th>\n",
       "      <td>614.000000</td>\n",
       "      <td>614.000000</td>\n",
       "      <td>614.000000</td>\n",
       "      <td>614.000000</td>\n",
       "      <td>614.000000</td>\n",
       "    </tr>\n",
       "    <tr>\n",
       "      <th>mean</th>\n",
       "      <td>5403.459283</td>\n",
       "      <td>1621.245798</td>\n",
       "      <td>146.397394</td>\n",
       "      <td>342.410423</td>\n",
       "      <td>0.855049</td>\n",
       "    </tr>\n",
       "    <tr>\n",
       "      <th>std</th>\n",
       "      <td>6109.041673</td>\n",
       "      <td>2926.248369</td>\n",
       "      <td>84.037503</td>\n",
       "      <td>64.428629</td>\n",
       "      <td>0.352339</td>\n",
       "    </tr>\n",
       "    <tr>\n",
       "      <th>min</th>\n",
       "      <td>150.000000</td>\n",
       "      <td>0.000000</td>\n",
       "      <td>9.000000</td>\n",
       "      <td>12.000000</td>\n",
       "      <td>0.000000</td>\n",
       "    </tr>\n",
       "    <tr>\n",
       "      <th>25%</th>\n",
       "      <td>2877.500000</td>\n",
       "      <td>0.000000</td>\n",
       "      <td>100.250000</td>\n",
       "      <td>360.000000</td>\n",
       "      <td>1.000000</td>\n",
       "    </tr>\n",
       "    <tr>\n",
       "      <th>50%</th>\n",
       "      <td>3812.500000</td>\n",
       "      <td>1188.500000</td>\n",
       "      <td>129.000000</td>\n",
       "      <td>360.000000</td>\n",
       "      <td>1.000000</td>\n",
       "    </tr>\n",
       "    <tr>\n",
       "      <th>75%</th>\n",
       "      <td>5795.000000</td>\n",
       "      <td>2297.250000</td>\n",
       "      <td>164.750000</td>\n",
       "      <td>360.000000</td>\n",
       "      <td>1.000000</td>\n",
       "    </tr>\n",
       "    <tr>\n",
       "      <th>max</th>\n",
       "      <td>81000.000000</td>\n",
       "      <td>41667.000000</td>\n",
       "      <td>700.000000</td>\n",
       "      <td>480.000000</td>\n",
       "      <td>1.000000</td>\n",
       "    </tr>\n",
       "  </tbody>\n",
       "</table>\n",
       "</div>"
      ],
      "text/plain": [
       "       ApplicantIncome  CoapplicantIncome  LoanAmount  Loan_Amount_Term  \\\n",
       "count       614.000000         614.000000  614.000000        614.000000   \n",
       "mean       5403.459283        1621.245798  146.397394        342.410423   \n",
       "std        6109.041673        2926.248369   84.037503         64.428629   \n",
       "min         150.000000           0.000000    9.000000         12.000000   \n",
       "25%        2877.500000           0.000000  100.250000        360.000000   \n",
       "50%        3812.500000        1188.500000  129.000000        360.000000   \n",
       "75%        5795.000000        2297.250000  164.750000        360.000000   \n",
       "max       81000.000000       41667.000000  700.000000        480.000000   \n",
       "\n",
       "       Credit_History  \n",
       "count      614.000000  \n",
       "mean         0.855049  \n",
       "std          0.352339  \n",
       "min          0.000000  \n",
       "25%          1.000000  \n",
       "50%          1.000000  \n",
       "75%          1.000000  \n",
       "max          1.000000  "
      ]
     },
     "execution_count": 253,
     "metadata": {},
     "output_type": "execute_result"
    }
   ],
   "source": [
    "df_numerics.describe()"
   ]
  },
  {
   "cell_type": "markdown",
   "id": "3a076abc",
   "metadata": {},
   "source": [
    "* #### It seems there is no unsual values in each column"
   ]
  },
  {
   "cell_type": "code",
   "execution_count": 254,
   "id": "533d6c5e",
   "metadata": {},
   "outputs": [],
   "source": [
    "#Total_Income\n",
    "df['Total_Income'] = df['ApplicantIncome'].astype(int) + df['CoapplicantIncome'].astype(int)\n",
    "#drop the other two\n",
    "df.drop(columns=['ApplicantIncome', 'CoapplicantIncome'], inplace=True)\n",
    "\n",
    "#Credit_History will be 0 and 1\n",
    "df['Credit_History'] = df['Credit_History'].astype(int)"
   ]
  },
  {
   "cell_type": "code",
   "execution_count": 255,
   "id": "6b8bcd68",
   "metadata": {},
   "outputs": [],
   "source": [
    "#uncomment to change Loan_Status to 0 and 1\n",
    "save_df = df.copy()\n",
    "save_df['Loan_Status'] = np.where(df['Loan_Status'] == 'N', 0, 1)"
   ]
  },
  {
   "cell_type": "code",
   "execution_count": 256,
   "id": "3a53db82",
   "metadata": {},
   "outputs": [
    {
     "data": {
      "text/html": [
       "<div>\n",
       "<style scoped>\n",
       "    .dataframe tbody tr th:only-of-type {\n",
       "        vertical-align: middle;\n",
       "    }\n",
       "\n",
       "    .dataframe tbody tr th {\n",
       "        vertical-align: top;\n",
       "    }\n",
       "\n",
       "    .dataframe thead th {\n",
       "        text-align: right;\n",
       "    }\n",
       "</style>\n",
       "<table border=\"1\" class=\"dataframe\">\n",
       "  <thead>\n",
       "    <tr style=\"text-align: right;\">\n",
       "      <th></th>\n",
       "      <th>Gender</th>\n",
       "      <th>Married</th>\n",
       "      <th>Dependents</th>\n",
       "      <th>Education</th>\n",
       "      <th>Self_Employed</th>\n",
       "      <th>LoanAmount</th>\n",
       "      <th>Loan_Amount_Term</th>\n",
       "      <th>Credit_History</th>\n",
       "      <th>Property_Area</th>\n",
       "      <th>Loan_Status</th>\n",
       "      <th>Total_Income</th>\n",
       "    </tr>\n",
       "  </thead>\n",
       "  <tbody>\n",
       "    <tr>\n",
       "      <th>0</th>\n",
       "      <td>Male</td>\n",
       "      <td>No</td>\n",
       "      <td>0</td>\n",
       "      <td>Graduate</td>\n",
       "      <td>No</td>\n",
       "      <td>146</td>\n",
       "      <td>360.0</td>\n",
       "      <td>1</td>\n",
       "      <td>Urban</td>\n",
       "      <td>1</td>\n",
       "      <td>5849</td>\n",
       "    </tr>\n",
       "    <tr>\n",
       "      <th>1</th>\n",
       "      <td>Male</td>\n",
       "      <td>Yes</td>\n",
       "      <td>1</td>\n",
       "      <td>Graduate</td>\n",
       "      <td>No</td>\n",
       "      <td>128</td>\n",
       "      <td>360.0</td>\n",
       "      <td>1</td>\n",
       "      <td>Rural</td>\n",
       "      <td>0</td>\n",
       "      <td>6091</td>\n",
       "    </tr>\n",
       "    <tr>\n",
       "      <th>2</th>\n",
       "      <td>Male</td>\n",
       "      <td>Yes</td>\n",
       "      <td>0</td>\n",
       "      <td>Graduate</td>\n",
       "      <td>Yes</td>\n",
       "      <td>66</td>\n",
       "      <td>360.0</td>\n",
       "      <td>1</td>\n",
       "      <td>Urban</td>\n",
       "      <td>1</td>\n",
       "      <td>3000</td>\n",
       "    </tr>\n",
       "    <tr>\n",
       "      <th>3</th>\n",
       "      <td>Male</td>\n",
       "      <td>Yes</td>\n",
       "      <td>0</td>\n",
       "      <td>Not Graduate</td>\n",
       "      <td>No</td>\n",
       "      <td>120</td>\n",
       "      <td>360.0</td>\n",
       "      <td>1</td>\n",
       "      <td>Urban</td>\n",
       "      <td>1</td>\n",
       "      <td>4941</td>\n",
       "    </tr>\n",
       "    <tr>\n",
       "      <th>4</th>\n",
       "      <td>Male</td>\n",
       "      <td>No</td>\n",
       "      <td>0</td>\n",
       "      <td>Graduate</td>\n",
       "      <td>No</td>\n",
       "      <td>141</td>\n",
       "      <td>360.0</td>\n",
       "      <td>1</td>\n",
       "      <td>Urban</td>\n",
       "      <td>1</td>\n",
       "      <td>6000</td>\n",
       "    </tr>\n",
       "  </tbody>\n",
       "</table>\n",
       "</div>"
      ],
      "text/plain": [
       "  Gender Married Dependents     Education Self_Employed  LoanAmount  \\\n",
       "0   Male      No          0      Graduate            No         146   \n",
       "1   Male     Yes          1      Graduate            No         128   \n",
       "2   Male     Yes          0      Graduate           Yes          66   \n",
       "3   Male     Yes          0  Not Graduate            No         120   \n",
       "4   Male      No          0      Graduate            No         141   \n",
       "\n",
       "   Loan_Amount_Term  Credit_History Property_Area  Loan_Status  Total_Income  \n",
       "0             360.0               1         Urban            1          5849  \n",
       "1             360.0               1         Rural            0          6091  \n",
       "2             360.0               1         Urban            1          3000  \n",
       "3             360.0               1         Urban            1          4941  \n",
       "4             360.0               1         Urban            1          6000  "
      ]
     },
     "execution_count": 256,
     "metadata": {},
     "output_type": "execute_result"
    }
   ],
   "source": [
    "save_df.head(5)"
   ]
  },
  {
   "cell_type": "code",
   "execution_count": 257,
   "id": "490c7a5a",
   "metadata": {},
   "outputs": [],
   "source": [
    "##save csv cleaned data\n",
    "save_df.to_csv(\"/Users/hople/Desktop/Bootcamp Lectures/week_7/mini-project-4/data/cleaned_data.csv\")"
   ]
  },
  {
   "cell_type": "markdown",
   "id": "ab4b3de3",
   "metadata": {},
   "source": [
    "## 2. Data Exploration Analysis (EDA)\n",
    "Let's do some basic data exploration here and come up with some inferences about the data. I will try to figure out some irregularities and address them in the next section."
   ]
  },
  {
   "cell_type": "markdown",
   "id": "bfaf170c",
   "metadata": {},
   "source": [
    "#### Hypothesis Generation\n",
    "#### Possible hypotheses\n",
    "Which applicants are more likely to get a loan\n",
    "1. Applicants having a credit history more likely get approval. Credit history showing reliable informations of applicants income, spending and saving.\n",
    "    * Plotting hist graph to compare between group\n",
    "\n",
    "\n",
    "2. Applicants with higher applicantincome and co-applicantincome has more more likely get approval. Income is evidently showing their ability to pay back their loan\n",
    "    * Calculate the total_income(Applicantincome + co-ApplicantIncome) and ploting hist graph\n",
    "\n",
    "\n",
    "3. Applicants graduated is likely to be considered to Loan status decision. applicants  graduated is likely to get higher income and secure job which is showing their ability to pay back their loan soon.\n",
    "    * Plotting hist graph to compare groups\n",
    "\n",
    "\n",
    "4. Semiurbun applicants has higher change to get approval, they are in high growth perspectives. Also, rural applicants might spend less than Urban applicants.\n",
    "    * Plotting hist graph to compare groups\n",
    "\n",
    "\n",
    "5. Applicants with self_employed are likely to get approval. If they own a business. For those self_employed they will have high income.\n",
    "    * Plotting hist graph to compare groups\n",
    "\n",
    "\n",
    "6. Applicants have more dependants likely get refused to loan decision. They have to spend more than other groups.\n",
    "    * Plotting hist graph to compare groups"
   ]
  },
  {
   "cell_type": "code",
   "execution_count": 258,
   "id": "bebc6a7e",
   "metadata": {},
   "outputs": [],
   "source": [
    "cleaned_df = pd.read_csv(\"/Users/hople/Desktop/Bootcamp Lectures/week_7/mini-project-4/data/cleaned_data.csv\")\n",
    "cleaned_df.drop(columns='Unnamed: 0', inplace=True)"
   ]
  },
  {
   "cell_type": "code",
   "execution_count": 259,
   "id": "dff11585",
   "metadata": {},
   "outputs": [
    {
     "data": {
      "text/html": [
       "<div>\n",
       "<style scoped>\n",
       "    .dataframe tbody tr th:only-of-type {\n",
       "        vertical-align: middle;\n",
       "    }\n",
       "\n",
       "    .dataframe tbody tr th {\n",
       "        vertical-align: top;\n",
       "    }\n",
       "\n",
       "    .dataframe thead th {\n",
       "        text-align: right;\n",
       "    }\n",
       "</style>\n",
       "<table border=\"1\" class=\"dataframe\">\n",
       "  <thead>\n",
       "    <tr style=\"text-align: right;\">\n",
       "      <th></th>\n",
       "      <th>Gender</th>\n",
       "      <th>Married</th>\n",
       "      <th>Dependents</th>\n",
       "      <th>Education</th>\n",
       "      <th>Self_Employed</th>\n",
       "      <th>LoanAmount</th>\n",
       "      <th>Loan_Amount_Term</th>\n",
       "      <th>Credit_History</th>\n",
       "      <th>Property_Area</th>\n",
       "      <th>Loan_Status</th>\n",
       "      <th>Total_Income</th>\n",
       "    </tr>\n",
       "  </thead>\n",
       "  <tbody>\n",
       "    <tr>\n",
       "      <th>0</th>\n",
       "      <td>Male</td>\n",
       "      <td>No</td>\n",
       "      <td>0</td>\n",
       "      <td>Graduate</td>\n",
       "      <td>No</td>\n",
       "      <td>146</td>\n",
       "      <td>360.0</td>\n",
       "      <td>1</td>\n",
       "      <td>Urban</td>\n",
       "      <td>1</td>\n",
       "      <td>5849</td>\n",
       "    </tr>\n",
       "    <tr>\n",
       "      <th>1</th>\n",
       "      <td>Male</td>\n",
       "      <td>Yes</td>\n",
       "      <td>1</td>\n",
       "      <td>Graduate</td>\n",
       "      <td>No</td>\n",
       "      <td>128</td>\n",
       "      <td>360.0</td>\n",
       "      <td>1</td>\n",
       "      <td>Rural</td>\n",
       "      <td>0</td>\n",
       "      <td>6091</td>\n",
       "    </tr>\n",
       "    <tr>\n",
       "      <th>2</th>\n",
       "      <td>Male</td>\n",
       "      <td>Yes</td>\n",
       "      <td>0</td>\n",
       "      <td>Graduate</td>\n",
       "      <td>Yes</td>\n",
       "      <td>66</td>\n",
       "      <td>360.0</td>\n",
       "      <td>1</td>\n",
       "      <td>Urban</td>\n",
       "      <td>1</td>\n",
       "      <td>3000</td>\n",
       "    </tr>\n",
       "    <tr>\n",
       "      <th>3</th>\n",
       "      <td>Male</td>\n",
       "      <td>Yes</td>\n",
       "      <td>0</td>\n",
       "      <td>Not Graduate</td>\n",
       "      <td>No</td>\n",
       "      <td>120</td>\n",
       "      <td>360.0</td>\n",
       "      <td>1</td>\n",
       "      <td>Urban</td>\n",
       "      <td>1</td>\n",
       "      <td>4941</td>\n",
       "    </tr>\n",
       "    <tr>\n",
       "      <th>4</th>\n",
       "      <td>Male</td>\n",
       "      <td>No</td>\n",
       "      <td>0</td>\n",
       "      <td>Graduate</td>\n",
       "      <td>No</td>\n",
       "      <td>141</td>\n",
       "      <td>360.0</td>\n",
       "      <td>1</td>\n",
       "      <td>Urban</td>\n",
       "      <td>1</td>\n",
       "      <td>6000</td>\n",
       "    </tr>\n",
       "  </tbody>\n",
       "</table>\n",
       "</div>"
      ],
      "text/plain": [
       "  Gender Married Dependents     Education Self_Employed  LoanAmount  \\\n",
       "0   Male      No          0      Graduate            No         146   \n",
       "1   Male     Yes          1      Graduate            No         128   \n",
       "2   Male     Yes          0      Graduate           Yes          66   \n",
       "3   Male     Yes          0  Not Graduate            No         120   \n",
       "4   Male      No          0      Graduate            No         141   \n",
       "\n",
       "   Loan_Amount_Term  Credit_History Property_Area  Loan_Status  Total_Income  \n",
       "0             360.0               1         Urban            1          5849  \n",
       "1             360.0               1         Rural            0          6091  \n",
       "2             360.0               1         Urban            1          3000  \n",
       "3             360.0               1         Urban            1          4941  \n",
       "4             360.0               1         Urban            1          6000  "
      ]
     },
     "execution_count": 259,
     "metadata": {},
     "output_type": "execute_result"
    }
   ],
   "source": [
    "cleaned_df.head(5)"
   ]
  },
  {
   "cell_type": "code",
   "execution_count": 299,
   "id": "3b459ba7",
   "metadata": {},
   "outputs": [
    {
     "data": {
      "text/plain": [
       "Gender              0\n",
       "Married             0\n",
       "Education           0\n",
       "Self_Employed       0\n",
       "LoanAmount          0\n",
       "Loan_Amount_Term    0\n",
       "Credit_History      0\n",
       "Property_Area       0\n",
       "Loan_Status         0\n",
       "Total_Income        0\n",
       "Dependents_level    0\n",
       "dtype: int64"
      ]
     },
     "execution_count": 299,
     "metadata": {},
     "output_type": "execute_result"
    }
   ],
   "source": [
    "df.isnull().sum()"
   ]
  },
  {
   "cell_type": "markdown",
   "id": "e594337d",
   "metadata": {},
   "source": [
    "#### I guest applicants in semiurban likely to get approval than the others"
   ]
  },
  {
   "cell_type": "code",
   "execution_count": 300,
   "id": "ba78d4e8",
   "metadata": {},
   "outputs": [
    {
     "data": {
      "text/plain": [
       "array(['Urban', 'Rural', 'Semiurban'], dtype=object)"
      ]
     },
     "execution_count": 300,
     "metadata": {},
     "output_type": "execute_result"
    }
   ],
   "source": [
    "df['Property_Area'].unique()"
   ]
  },
  {
   "cell_type": "code",
   "execution_count": 301,
   "id": "86ef4d48",
   "metadata": {},
   "outputs": [],
   "source": [
    "#Lets see what we can inteprete the data base on property area\n",
    "urban_df = df[df['Property_Area'] == 'Urban']\n",
    "rural_df = df[df['Property_Area'] == 'Rural']\n",
    "semi_df = df[df['Property_Area'] == 'Semiurban']"
   ]
  },
  {
   "cell_type": "code",
   "execution_count": 302,
   "id": "413bf673",
   "metadata": {},
   "outputs": [
    {
     "data": {
      "text/plain": [
       "Text(0.5, 1.0, 'Applicants in urban')"
      ]
     },
     "execution_count": 302,
     "metadata": {},
     "output_type": "execute_result"
    },
    {
     "data": {
      "image/png": "[encoded data removed]",
      "text/plain": [
       "<Figure size 432x288 with 1 Axes>"
      ]
     },
     "metadata": {},
     "output_type": "display_data"
    }
   ],
   "source": [
    "##ploting urban\n",
    "plt.hist(urban_df['Loan_Status'], bins=2)\n",
    "plt.xlabel(\"Loan Status\")\n",
    "plt.ylabel(\"Count per status\")\n",
    "plt.title(\"Applicants in urban\")"
   ]
  },
  {
   "cell_type": "code",
   "execution_count": 303,
   "id": "fa944b2a",
   "metadata": {},
   "outputs": [
    {
     "data": {
      "text/plain": [
       "Text(0.5, 1.0, 'Applicants in rural')"
      ]
     },
     "execution_count": 303,
     "metadata": {},
     "output_type": "execute_result"
    },
    {
     "data": {
      "image/png": "[encoded data removed]",
      "text/plain": [
       "<Figure size 432x288 with 1 Axes>"
      ]
     },
     "metadata": {},
     "output_type": "display_data"
    }
   ],
   "source": [
    "##ploting rural\n",
    "plt.hist(rural_df['Loan_Status'], bins=2)\n",
    "plt.xlabel(\"Loan Status\")\n",
    "plt.ylabel(\"Count per status\")\n",
    "plt.title(\"Applicants in rural\")"
   ]
  },
  {
   "cell_type": "code",
   "execution_count": 265,
   "id": "fd54fd13",
   "metadata": {},
   "outputs": [
    {
     "data": {
      "text/plain": [
       "Text(0.5, 1.0, 'Applicants in semiurban')"
      ]
     },
     "execution_count": 265,
     "metadata": {},
     "output_type": "execute_result"
    },
    {
     "data": {
      "image/png": "[encoded data removed]",
      "text/plain": [
       "<Figure size 432x288 with 1 Axes>"
      ]
     },
     "metadata": {},
     "output_type": "display_data"
    }
   ],
   "source": [
    "##ploting semi\n",
    "plt.hist(semi_df['Loan_Status'], bins=2)\n",
    "plt.xlabel(\"Loan Status\")\n",
    "plt.ylabel(\"Count per status\")\n",
    "plt.title(\"Applicants in semiurban\")"
   ]
  },
  {
   "cell_type": "markdown",
   "id": "c0cde059",
   "metadata": {},
   "source": [
    "* As I guested, applicants in semiurban are likely to get approval, thing supprised me is even applicants in rural are likely to get approval"
   ]
  },
  {
   "cell_type": "markdown",
   "id": "358033b3",
   "metadata": {},
   "source": [
    "#### Lets see How many applicants have a `Credit_History`"
   ]
  },
  {
   "cell_type": "code",
   "execution_count": 266,
   "id": "0a18b429",
   "metadata": {},
   "outputs": [
    {
     "name": "stdout",
     "output_type": "stream",
     "text": [
      " The total number of no history score is 89, which is 14.50% of the total applicants\n",
      " The total number of yes history score is 525, which is 85.50% of the total applicants\n"
     ]
    }
   ],
   "source": [
    "total_rows = len(cleaned_df['Credit_History'])\n",
    "total_no_hist = cleaned_df.groupby('Credit_History')['Credit_History'].count().iloc[0]\n",
    "total_yes_hist = cleaned_df.groupby('Credit_History')['Credit_History'].count().iloc[1]\n",
    "prop_no_hist = (total_no_hist/total_rows)*100\n",
    "prop_yes_hist = (total_yes_hist/total_rows)*100\n",
    "\n",
    "print(f' The total number of no history score is {total_no_hist}, which is {prop_no_hist:.2f}% of the total applicants')\n",
    "print(f' The total number of yes history score is {total_yes_hist}, which is {prop_yes_hist:.2f}% of the total applicants')"
   ]
  },
  {
   "cell_type": "markdown",
   "id": "bf65bae0",
   "metadata": {},
   "source": [
    "* Giving that most applicants has credit score with occupied 85.50% of application, and applicants has no credit score is 14.50%. Lets see who is this applicants with no credit score"
   ]
  },
  {
   "cell_type": "code",
   "execution_count": 296,
   "id": "feac5c0e",
   "metadata": {},
   "outputs": [],
   "source": [
    "df_no_credit = df[cleaned_df['Credit_History'] == 0.0]\n",
    "df_yes_credit = df[cleaned_df['Credit_History'] == 1.0]"
   ]
  },
  {
   "cell_type": "code",
   "execution_count": 297,
   "id": "6c8fd4cb",
   "metadata": {},
   "outputs": [
    {
     "data": {
      "text/plain": [
       "Text(0.5, 1.0, 'Applicant with no credit history')"
      ]
     },
     "execution_count": 297,
     "metadata": {},
     "output_type": "execute_result"
    },
    {
     "data": {
      "image/png": "[encoded data removed]",
      "text/plain": [
       "<Figure size 432x288 with 1 Axes>"
      ]
     },
     "metadata": {},
     "output_type": "display_data"
    }
   ],
   "source": [
    "##ploting applicants loan status with no credit score\n",
    "plt.hist(df_no_credit['Loan_Status'], bins=2)\n",
    "plt.xlabel(\"Loan Status\")\n",
    "plt.ylabel(\"Count per status\")\n",
    "plt.title(\"Applicant with no credit history\")"
   ]
  },
  {
   "cell_type": "code",
   "execution_count": 298,
   "id": "424a9382",
   "metadata": {},
   "outputs": [
    {
     "data": {
      "text/plain": [
       "Text(0.5, 1.0, 'Applicant with credit history')"
      ]
     },
     "execution_count": 298,
     "metadata": {},
     "output_type": "execute_result"
    },
    {
     "data": {
      "image/png": "[encoded data removed]",
      "text/plain": [
       "<Figure size 432x288 with 1 Axes>"
      ]
     },
     "metadata": {},
     "output_type": "display_data"
    }
   ],
   "source": [
    "##ploting applicants loan status with yes credit score\n",
    "plt.hist(df_yes_credit['Loan_Status'], bins=2)\n",
    "plt.xlabel(\"Loan Status\")\n",
    "plt.ylabel(\"Count per status\")\n",
    "plt.title(\"Applicant with credit history\")"
   ]
  },
  {
   "cell_type": "markdown",
   "id": "7e05f9ae",
   "metadata": {},
   "source": [
    "* This might suggest that applicants without credit score will be likely to be refused, and vice-versa"
   ]
  },
  {
   "cell_type": "code",
   "execution_count": 270,
   "id": "8a388138",
   "metadata": {},
   "outputs": [
    {
     "data": {
      "text/html": [
       "<div>\n",
       "<style scoped>\n",
       "    .dataframe tbody tr th:only-of-type {\n",
       "        vertical-align: middle;\n",
       "    }\n",
       "\n",
       "    .dataframe tbody tr th {\n",
       "        vertical-align: top;\n",
       "    }\n",
       "\n",
       "    .dataframe thead th {\n",
       "        text-align: right;\n",
       "    }\n",
       "</style>\n",
       "<table border=\"1\" class=\"dataframe\">\n",
       "  <thead>\n",
       "    <tr style=\"text-align: right;\">\n",
       "      <th></th>\n",
       "      <th>Gender</th>\n",
       "      <th>Married</th>\n",
       "      <th>Dependents</th>\n",
       "      <th>Education</th>\n",
       "      <th>Self_Employed</th>\n",
       "      <th>LoanAmount</th>\n",
       "      <th>Loan_Amount_Term</th>\n",
       "      <th>Credit_History</th>\n",
       "      <th>Property_Area</th>\n",
       "      <th>Loan_Status</th>\n",
       "      <th>Total_Income</th>\n",
       "    </tr>\n",
       "  </thead>\n",
       "  <tbody>\n",
       "    <tr>\n",
       "      <th>122</th>\n",
       "      <td>Female</td>\n",
       "      <td>No</td>\n",
       "      <td>0</td>\n",
       "      <td>Graduate</td>\n",
       "      <td>No</td>\n",
       "      <td>137</td>\n",
       "      <td>360.0</td>\n",
       "      <td>0</td>\n",
       "      <td>Semiurban</td>\n",
       "      <td>1</td>\n",
       "      <td>11117</td>\n",
       "    </tr>\n",
       "    <tr>\n",
       "      <th>155</th>\n",
       "      <td>Male</td>\n",
       "      <td>Yes</td>\n",
       "      <td>3+</td>\n",
       "      <td>Graduate</td>\n",
       "      <td>No</td>\n",
       "      <td>600</td>\n",
       "      <td>180.0</td>\n",
       "      <td>0</td>\n",
       "      <td>Semiurban</td>\n",
       "      <td>1</td>\n",
       "      <td>39999</td>\n",
       "    </tr>\n",
       "    <tr>\n",
       "      <th>201</th>\n",
       "      <td>Male</td>\n",
       "      <td>No</td>\n",
       "      <td>2</td>\n",
       "      <td>Graduate</td>\n",
       "      <td>No</td>\n",
       "      <td>166</td>\n",
       "      <td>360.0</td>\n",
       "      <td>0</td>\n",
       "      <td>Semiurban</td>\n",
       "      <td>1</td>\n",
       "      <td>4923</td>\n",
       "    </tr>\n",
       "    <tr>\n",
       "      <th>267</th>\n",
       "      <td>Male</td>\n",
       "      <td>Yes</td>\n",
       "      <td>3+</td>\n",
       "      <td>Graduate</td>\n",
       "      <td>No</td>\n",
       "      <td>160</td>\n",
       "      <td>360.0</td>\n",
       "      <td>0</td>\n",
       "      <td>Urban</td>\n",
       "      <td>1</td>\n",
       "      <td>6144</td>\n",
       "    </tr>\n",
       "    <tr>\n",
       "      <th>326</th>\n",
       "      <td>Male</td>\n",
       "      <td>No</td>\n",
       "      <td>0</td>\n",
       "      <td>Graduate</td>\n",
       "      <td>No</td>\n",
       "      <td>130</td>\n",
       "      <td>360.0</td>\n",
       "      <td>0</td>\n",
       "      <td>Rural</td>\n",
       "      <td>1</td>\n",
       "      <td>4917</td>\n",
       "    </tr>\n",
       "    <tr>\n",
       "      <th>453</th>\n",
       "      <td>Male</td>\n",
       "      <td>Yes</td>\n",
       "      <td>0</td>\n",
       "      <td>Graduate</td>\n",
       "      <td>No</td>\n",
       "      <td>90</td>\n",
       "      <td>180.0</td>\n",
       "      <td>0</td>\n",
       "      <td>Rural</td>\n",
       "      <td>1</td>\n",
       "      <td>4949</td>\n",
       "    </tr>\n",
       "    <tr>\n",
       "      <th>527</th>\n",
       "      <td>Male</td>\n",
       "      <td>Yes</td>\n",
       "      <td>1</td>\n",
       "      <td>Not Graduate</td>\n",
       "      <td>No</td>\n",
       "      <td>161</td>\n",
       "      <td>360.0</td>\n",
       "      <td>0</td>\n",
       "      <td>Semiurban</td>\n",
       "      <td>1</td>\n",
       "      <td>6715</td>\n",
       "    </tr>\n",
       "  </tbody>\n",
       "</table>\n",
       "</div>"
      ],
      "text/plain": [
       "     Gender Married Dependents     Education Self_Employed  LoanAmount  \\\n",
       "122  Female      No          0      Graduate            No         137   \n",
       "155    Male     Yes         3+      Graduate            No         600   \n",
       "201    Male      No          2      Graduate            No         166   \n",
       "267    Male     Yes         3+      Graduate            No         160   \n",
       "326    Male      No          0      Graduate            No         130   \n",
       "453    Male     Yes          0      Graduate            No          90   \n",
       "527    Male     Yes          1  Not Graduate            No         161   \n",
       "\n",
       "     Loan_Amount_Term  Credit_History Property_Area  Loan_Status  Total_Income  \n",
       "122             360.0               0     Semiurban            1         11117  \n",
       "155             180.0               0     Semiurban            1         39999  \n",
       "201             360.0               0     Semiurban            1          4923  \n",
       "267             360.0               0         Urban            1          6144  \n",
       "326             360.0               0         Rural            1          4917  \n",
       "453             180.0               0         Rural            1          4949  \n",
       "527             360.0               0     Semiurban            1          6715  "
      ]
     },
     "execution_count": 270,
     "metadata": {},
     "output_type": "execute_result"
    }
   ],
   "source": [
    "#Lets see who is these applicants got approval even without credit history\n",
    "df_no_credit[df_no_credit['Loan_Status'] == 1]"
   ]
  },
  {
   "cell_type": "markdown",
   "id": "898b6c89",
   "metadata": {},
   "source": [
    "* the most interesting of this applicants(without credit) got approval are living in Rural and Semiurban"
   ]
  },
  {
   "cell_type": "code",
   "execution_count": 271,
   "id": "bc7fc790",
   "metadata": {},
   "outputs": [
    {
     "data": {
      "text/html": [
       "<div>\n",
       "<style scoped>\n",
       "    .dataframe tbody tr th:only-of-type {\n",
       "        vertical-align: middle;\n",
       "    }\n",
       "\n",
       "    .dataframe tbody tr th {\n",
       "        vertical-align: top;\n",
       "    }\n",
       "\n",
       "    .dataframe thead th {\n",
       "        text-align: right;\n",
       "    }\n",
       "</style>\n",
       "<table border=\"1\" class=\"dataframe\">\n",
       "  <thead>\n",
       "    <tr style=\"text-align: right;\">\n",
       "      <th></th>\n",
       "      <th>Gender</th>\n",
       "      <th>Married</th>\n",
       "      <th>Dependents</th>\n",
       "      <th>Education</th>\n",
       "      <th>Self_Employed</th>\n",
       "      <th>LoanAmount</th>\n",
       "      <th>Loan_Amount_Term</th>\n",
       "      <th>Credit_History</th>\n",
       "      <th>Property_Area</th>\n",
       "      <th>Loan_Status</th>\n",
       "      <th>Total_Income</th>\n",
       "    </tr>\n",
       "  </thead>\n",
       "  <tbody>\n",
       "    <tr>\n",
       "      <th>1</th>\n",
       "      <td>Male</td>\n",
       "      <td>Yes</td>\n",
       "      <td>1</td>\n",
       "      <td>Graduate</td>\n",
       "      <td>No</td>\n",
       "      <td>128</td>\n",
       "      <td>360.0</td>\n",
       "      <td>1</td>\n",
       "      <td>Rural</td>\n",
       "      <td>0</td>\n",
       "      <td>6091</td>\n",
       "    </tr>\n",
       "    <tr>\n",
       "      <th>9</th>\n",
       "      <td>Male</td>\n",
       "      <td>Yes</td>\n",
       "      <td>1</td>\n",
       "      <td>Graduate</td>\n",
       "      <td>No</td>\n",
       "      <td>349</td>\n",
       "      <td>360.0</td>\n",
       "      <td>1</td>\n",
       "      <td>Semiurban</td>\n",
       "      <td>0</td>\n",
       "      <td>23809</td>\n",
       "    </tr>\n",
       "    <tr>\n",
       "      <th>13</th>\n",
       "      <td>Male</td>\n",
       "      <td>No</td>\n",
       "      <td>0</td>\n",
       "      <td>Graduate</td>\n",
       "      <td>No</td>\n",
       "      <td>114</td>\n",
       "      <td>360.0</td>\n",
       "      <td>1</td>\n",
       "      <td>Rural</td>\n",
       "      <td>0</td>\n",
       "      <td>4693</td>\n",
       "    </tr>\n",
       "    <tr>\n",
       "      <th>18</th>\n",
       "      <td>Male</td>\n",
       "      <td>Yes</td>\n",
       "      <td>0</td>\n",
       "      <td>Not Graduate</td>\n",
       "      <td>No</td>\n",
       "      <td>133</td>\n",
       "      <td>360.0</td>\n",
       "      <td>1</td>\n",
       "      <td>Rural</td>\n",
       "      <td>0</td>\n",
       "      <td>4887</td>\n",
       "    </tr>\n",
       "    <tr>\n",
       "      <th>24</th>\n",
       "      <td>Male</td>\n",
       "      <td>Yes</td>\n",
       "      <td>1</td>\n",
       "      <td>Graduate</td>\n",
       "      <td>No</td>\n",
       "      <td>151</td>\n",
       "      <td>360.0</td>\n",
       "      <td>1</td>\n",
       "      <td>Semiurban</td>\n",
       "      <td>0</td>\n",
       "      <td>6642</td>\n",
       "    </tr>\n",
       "    <tr>\n",
       "      <th>...</th>\n",
       "      <td>...</td>\n",
       "      <td>...</td>\n",
       "      <td>...</td>\n",
       "      <td>...</td>\n",
       "      <td>...</td>\n",
       "      <td>...</td>\n",
       "      <td>...</td>\n",
       "      <td>...</td>\n",
       "      <td>...</td>\n",
       "      <td>...</td>\n",
       "      <td>...</td>\n",
       "    </tr>\n",
       "    <tr>\n",
       "      <th>585</th>\n",
       "      <td>Male</td>\n",
       "      <td>Yes</td>\n",
       "      <td>1</td>\n",
       "      <td>Graduate</td>\n",
       "      <td>No</td>\n",
       "      <td>172</td>\n",
       "      <td>84.0</td>\n",
       "      <td>1</td>\n",
       "      <td>Rural</td>\n",
       "      <td>0</td>\n",
       "      <td>7283</td>\n",
       "    </tr>\n",
       "    <tr>\n",
       "      <th>591</th>\n",
       "      <td>Male</td>\n",
       "      <td>Yes</td>\n",
       "      <td>2</td>\n",
       "      <td>Graduate</td>\n",
       "      <td>Yes</td>\n",
       "      <td>205</td>\n",
       "      <td>240.0</td>\n",
       "      <td>1</td>\n",
       "      <td>Semiurban</td>\n",
       "      <td>0</td>\n",
       "      <td>6000</td>\n",
       "    </tr>\n",
       "    <tr>\n",
       "      <th>596</th>\n",
       "      <td>Male</td>\n",
       "      <td>Yes</td>\n",
       "      <td>2</td>\n",
       "      <td>Not Graduate</td>\n",
       "      <td>Yes</td>\n",
       "      <td>187</td>\n",
       "      <td>360.0</td>\n",
       "      <td>1</td>\n",
       "      <td>Rural</td>\n",
       "      <td>0</td>\n",
       "      <td>7383</td>\n",
       "    </tr>\n",
       "    <tr>\n",
       "      <th>600</th>\n",
       "      <td>Female</td>\n",
       "      <td>No</td>\n",
       "      <td>3+</td>\n",
       "      <td>Graduate</td>\n",
       "      <td>No</td>\n",
       "      <td>350</td>\n",
       "      <td>180.0</td>\n",
       "      <td>1</td>\n",
       "      <td>Urban</td>\n",
       "      <td>0</td>\n",
       "      <td>42083</td>\n",
       "    </tr>\n",
       "    <tr>\n",
       "      <th>605</th>\n",
       "      <td>Male</td>\n",
       "      <td>Yes</td>\n",
       "      <td>0</td>\n",
       "      <td>Not Graduate</td>\n",
       "      <td>No</td>\n",
       "      <td>146</td>\n",
       "      <td>180.0</td>\n",
       "      <td>1</td>\n",
       "      <td>Urban</td>\n",
       "      <td>0</td>\n",
       "      <td>6200</td>\n",
       "    </tr>\n",
       "  </tbody>\n",
       "</table>\n",
       "<p>110 rows × 11 columns</p>\n",
       "</div>"
      ],
      "text/plain": [
       "     Gender Married Dependents     Education Self_Employed  LoanAmount  \\\n",
       "1      Male     Yes          1      Graduate            No         128   \n",
       "9      Male     Yes          1      Graduate            No         349   \n",
       "13     Male      No          0      Graduate            No         114   \n",
       "18     Male     Yes          0  Not Graduate            No         133   \n",
       "24     Male     Yes          1      Graduate            No         151   \n",
       "..      ...     ...        ...           ...           ...         ...   \n",
       "585    Male     Yes          1      Graduate            No         172   \n",
       "591    Male     Yes          2      Graduate           Yes         205   \n",
       "596    Male     Yes          2  Not Graduate           Yes         187   \n",
       "600  Female      No         3+      Graduate            No         350   \n",
       "605    Male     Yes          0  Not Graduate            No         146   \n",
       "\n",
       "     Loan_Amount_Term  Credit_History Property_Area  Loan_Status  Total_Income  \n",
       "1               360.0               1         Rural            0          6091  \n",
       "9               360.0               1     Semiurban            0         23809  \n",
       "13              360.0               1         Rural            0          4693  \n",
       "18              360.0               1         Rural            0          4887  \n",
       "24              360.0               1     Semiurban            0          6642  \n",
       "..                ...             ...           ...          ...           ...  \n",
       "585              84.0               1         Rural            0          7283  \n",
       "591             240.0               1     Semiurban            0          6000  \n",
       "596             360.0               1         Rural            0          7383  \n",
       "600             180.0               1         Urban            0         42083  \n",
       "605             180.0               1         Urban            0          6200  \n",
       "\n",
       "[110 rows x 11 columns]"
      ]
     },
     "execution_count": 271,
     "metadata": {},
     "output_type": "execute_result"
    }
   ],
   "source": [
    "#Lets see who is these applicants got disapproval even has credit history\n",
    "df_yes_credit[df_yes_credit['Loan_Status'] == 0]"
   ]
  },
  {
   "cell_type": "markdown",
   "id": "5c704f28",
   "metadata": {},
   "source": [
    "* There is no more pattern in those above group"
   ]
  },
  {
   "cell_type": "markdown",
   "id": "d35c44d2",
   "metadata": {},
   "source": [
    "#### Applicants with dependents"
   ]
  },
  {
   "cell_type": "code",
   "execution_count": 272,
   "id": "58a117a1",
   "metadata": {},
   "outputs": [
    {
     "data": {
      "text/plain": [
       "array(['0', '1', '2', '3+'], dtype=object)"
      ]
     },
     "execution_count": 272,
     "metadata": {},
     "output_type": "execute_result"
    }
   ],
   "source": [
    "cleaned_df['Dependents'].unique()"
   ]
  },
  {
   "cell_type": "code",
   "execution_count": 273,
   "id": "0d64a582",
   "metadata": {},
   "outputs": [],
   "source": [
    "#split data to three group 0 dependants, 1 and 2 dependants, 3+ dependants\n",
    "df_0_dep = df[df['Dependents'] == '0']\n",
    "df_12_dep = df[df['Dependents'] != '0'][df[df['Dependents'] != '0']['Dependents'] != '1']\n",
    "df_3plus_dep = df[df['Dependents'] == '1']"
   ]
  },
  {
   "cell_type": "code",
   "execution_count": 274,
   "id": "877e5054",
   "metadata": {},
   "outputs": [
    {
     "data": {
      "text/html": [
       "<div>\n",
       "<style scoped>\n",
       "    .dataframe tbody tr th:only-of-type {\n",
       "        vertical-align: middle;\n",
       "    }\n",
       "\n",
       "    .dataframe tbody tr th {\n",
       "        vertical-align: top;\n",
       "    }\n",
       "\n",
       "    .dataframe thead th {\n",
       "        text-align: right;\n",
       "    }\n",
       "</style>\n",
       "<table border=\"1\" class=\"dataframe\">\n",
       "  <thead>\n",
       "    <tr style=\"text-align: right;\">\n",
       "      <th></th>\n",
       "      <th>Gender</th>\n",
       "      <th>Married</th>\n",
       "      <th>Dependents</th>\n",
       "      <th>Education</th>\n",
       "      <th>Self_Employed</th>\n",
       "      <th>LoanAmount</th>\n",
       "      <th>Loan_Amount_Term</th>\n",
       "      <th>Credit_History</th>\n",
       "      <th>Property_Area</th>\n",
       "      <th>Loan_Status</th>\n",
       "      <th>Total_Income</th>\n",
       "    </tr>\n",
       "  </thead>\n",
       "  <tbody>\n",
       "    <tr>\n",
       "      <th>0</th>\n",
       "      <td>Male</td>\n",
       "      <td>No</td>\n",
       "      <td>0</td>\n",
       "      <td>Graduate</td>\n",
       "      <td>No</td>\n",
       "      <td>146</td>\n",
       "      <td>360.0</td>\n",
       "      <td>1</td>\n",
       "      <td>Urban</td>\n",
       "      <td>Y</td>\n",
       "      <td>5849</td>\n",
       "    </tr>\n",
       "    <tr>\n",
       "      <th>2</th>\n",
       "      <td>Male</td>\n",
       "      <td>Yes</td>\n",
       "      <td>0</td>\n",
       "      <td>Graduate</td>\n",
       "      <td>Yes</td>\n",
       "      <td>66</td>\n",
       "      <td>360.0</td>\n",
       "      <td>1</td>\n",
       "      <td>Urban</td>\n",
       "      <td>Y</td>\n",
       "      <td>3000</td>\n",
       "    </tr>\n",
       "    <tr>\n",
       "      <th>3</th>\n",
       "      <td>Male</td>\n",
       "      <td>Yes</td>\n",
       "      <td>0</td>\n",
       "      <td>Not Graduate</td>\n",
       "      <td>No</td>\n",
       "      <td>120</td>\n",
       "      <td>360.0</td>\n",
       "      <td>1</td>\n",
       "      <td>Urban</td>\n",
       "      <td>Y</td>\n",
       "      <td>4941</td>\n",
       "    </tr>\n",
       "    <tr>\n",
       "      <th>4</th>\n",
       "      <td>Male</td>\n",
       "      <td>No</td>\n",
       "      <td>0</td>\n",
       "      <td>Graduate</td>\n",
       "      <td>No</td>\n",
       "      <td>141</td>\n",
       "      <td>360.0</td>\n",
       "      <td>1</td>\n",
       "      <td>Urban</td>\n",
       "      <td>Y</td>\n",
       "      <td>6000</td>\n",
       "    </tr>\n",
       "    <tr>\n",
       "      <th>6</th>\n",
       "      <td>Male</td>\n",
       "      <td>Yes</td>\n",
       "      <td>0</td>\n",
       "      <td>Not Graduate</td>\n",
       "      <td>No</td>\n",
       "      <td>95</td>\n",
       "      <td>360.0</td>\n",
       "      <td>1</td>\n",
       "      <td>Urban</td>\n",
       "      <td>Y</td>\n",
       "      <td>3849</td>\n",
       "    </tr>\n",
       "    <tr>\n",
       "      <th>...</th>\n",
       "      <td>...</td>\n",
       "      <td>...</td>\n",
       "      <td>...</td>\n",
       "      <td>...</td>\n",
       "      <td>...</td>\n",
       "      <td>...</td>\n",
       "      <td>...</td>\n",
       "      <td>...</td>\n",
       "      <td>...</td>\n",
       "      <td>...</td>\n",
       "      <td>...</td>\n",
       "    </tr>\n",
       "    <tr>\n",
       "      <th>603</th>\n",
       "      <td>Male</td>\n",
       "      <td>No</td>\n",
       "      <td>0</td>\n",
       "      <td>Graduate</td>\n",
       "      <td>No</td>\n",
       "      <td>172</td>\n",
       "      <td>360.0</td>\n",
       "      <td>1</td>\n",
       "      <td>Rural</td>\n",
       "      <td>Y</td>\n",
       "      <td>7977</td>\n",
       "    </tr>\n",
       "    <tr>\n",
       "      <th>605</th>\n",
       "      <td>Male</td>\n",
       "      <td>Yes</td>\n",
       "      <td>0</td>\n",
       "      <td>Not Graduate</td>\n",
       "      <td>No</td>\n",
       "      <td>146</td>\n",
       "      <td>180.0</td>\n",
       "      <td>1</td>\n",
       "      <td>Urban</td>\n",
       "      <td>N</td>\n",
       "      <td>6200</td>\n",
       "    </tr>\n",
       "    <tr>\n",
       "      <th>608</th>\n",
       "      <td>Male</td>\n",
       "      <td>Yes</td>\n",
       "      <td>0</td>\n",
       "      <td>Graduate</td>\n",
       "      <td>No</td>\n",
       "      <td>108</td>\n",
       "      <td>360.0</td>\n",
       "      <td>1</td>\n",
       "      <td>Rural</td>\n",
       "      <td>Y</td>\n",
       "      <td>5182</td>\n",
       "    </tr>\n",
       "    <tr>\n",
       "      <th>609</th>\n",
       "      <td>Female</td>\n",
       "      <td>No</td>\n",
       "      <td>0</td>\n",
       "      <td>Graduate</td>\n",
       "      <td>No</td>\n",
       "      <td>71</td>\n",
       "      <td>360.0</td>\n",
       "      <td>1</td>\n",
       "      <td>Rural</td>\n",
       "      <td>Y</td>\n",
       "      <td>2900</td>\n",
       "    </tr>\n",
       "    <tr>\n",
       "      <th>613</th>\n",
       "      <td>Female</td>\n",
       "      <td>No</td>\n",
       "      <td>0</td>\n",
       "      <td>Graduate</td>\n",
       "      <td>Yes</td>\n",
       "      <td>133</td>\n",
       "      <td>360.0</td>\n",
       "      <td>0</td>\n",
       "      <td>Semiurban</td>\n",
       "      <td>N</td>\n",
       "      <td>4583</td>\n",
       "    </tr>\n",
       "  </tbody>\n",
       "</table>\n",
       "<p>360 rows × 11 columns</p>\n",
       "</div>"
      ],
      "text/plain": [
       "     Gender Married Dependents     Education Self_Employed  LoanAmount  \\\n",
       "0      Male      No          0      Graduate            No         146   \n",
       "2      Male     Yes          0      Graduate           Yes          66   \n",
       "3      Male     Yes          0  Not Graduate            No         120   \n",
       "4      Male      No          0      Graduate            No         141   \n",
       "6      Male     Yes          0  Not Graduate            No          95   \n",
       "..      ...     ...        ...           ...           ...         ...   \n",
       "603    Male      No          0      Graduate            No         172   \n",
       "605    Male     Yes          0  Not Graduate            No         146   \n",
       "608    Male     Yes          0      Graduate            No         108   \n",
       "609  Female      No          0      Graduate            No          71   \n",
       "613  Female      No          0      Graduate           Yes         133   \n",
       "\n",
       "     Loan_Amount_Term  Credit_History Property_Area Loan_Status  Total_Income  \n",
       "0               360.0               1         Urban           Y          5849  \n",
       "2               360.0               1         Urban           Y          3000  \n",
       "3               360.0               1         Urban           Y          4941  \n",
       "4               360.0               1         Urban           Y          6000  \n",
       "6               360.0               1         Urban           Y          3849  \n",
       "..                ...             ...           ...         ...           ...  \n",
       "603             360.0               1         Rural           Y          7977  \n",
       "605             180.0               1         Urban           N          6200  \n",
       "608             360.0               1         Rural           Y          5182  \n",
       "609             360.0               1         Rural           Y          2900  \n",
       "613             360.0               0     Semiurban           N          4583  \n",
       "\n",
       "[360 rows x 11 columns]"
      ]
     },
     "execution_count": 274,
     "metadata": {},
     "output_type": "execute_result"
    }
   ],
   "source": [
    "df_0_dep"
   ]
  },
  {
   "cell_type": "code",
   "execution_count": 275,
   "id": "61351bed",
   "metadata": {},
   "outputs": [
    {
     "data": {
      "text/plain": [
       "Text(0, 0.5, 'Count per status')"
      ]
     },
     "execution_count": 275,
     "metadata": {},
     "output_type": "execute_result"
    },
    {
     "data": {
      "image/png": "[encoded data removed]",
      "text/plain": [
       "<Figure size 432x288 with 1 Axes>"
      ]
     },
     "metadata": {},
     "output_type": "display_data"
    }
   ],
   "source": [
    "##ploting 0 depentdants\n",
    "plt.hist(df_0_dep['Loan_Status'], bins=2)\n",
    "plt.xlabel(\"Loan Status\")\n",
    "plt.ylabel(\"Count per status\")"
   ]
  },
  {
   "cell_type": "code",
   "execution_count": 276,
   "id": "ec4c8684",
   "metadata": {},
   "outputs": [
    {
     "data": {
      "text/plain": [
       "Text(0.5, 1.0, 'Applicants with 1 or 2 dependents')"
      ]
     },
     "execution_count": 276,
     "metadata": {},
     "output_type": "execute_result"
    },
    {
     "data": {
      "image/png": "[encoded data removed]",
      "text/plain": [
       "<Figure size 432x288 with 1 Axes>"
      ]
     },
     "metadata": {},
     "output_type": "display_data"
    }
   ],
   "source": [
    "##ploting 1 and 2 dependents\n",
    "plt.hist(df_12_dep['Loan_Status'], bins=2)\n",
    "plt.xlabel(\"Loan Status\")\n",
    "plt.ylabel(\"Count per status\")\n",
    "plt.title(\"Applicants with 1 or 2 dependents\")"
   ]
  },
  {
   "cell_type": "code",
   "execution_count": 277,
   "id": "7d8e1fc2",
   "metadata": {},
   "outputs": [
    {
     "data": {
      "text/plain": [
       "Text(0.5, 1.0, 'Applicants with 3+ dependents')"
      ]
     },
     "execution_count": 277,
     "metadata": {},
     "output_type": "execute_result"
    },
    {
     "data": {
      "image/png": "[encoded data removed]",
      "text/plain": [
       "<Figure size 432x288 with 1 Axes>"
      ]
     },
     "metadata": {},
     "output_type": "display_data"
    }
   ],
   "source": [
    "##ploting 3+ dependents\n",
    "plt.hist(df_3plus_dep['Loan_Status'], bins=2)\n",
    "plt.xlabel(\"Loan Status\")\n",
    "plt.ylabel(\"Count per status\")\n",
    "plt.title(\"Applicants with 3+ dependents\")"
   ]
  },
  {
   "cell_type": "markdown",
   "id": "f72fb66f",
   "metadata": {},
   "source": [
    "* These three hist graph proving my hypothesis, applicants have dependants are likely to get disapproval. \n",
    "* I will transform the Dependents"
   ]
  },
  {
   "cell_type": "code",
   "execution_count": 278,
   "id": "c747bb09",
   "metadata": {},
   "outputs": [],
   "source": [
    "#Dependents, I will do level 0, 1, 2 for better prediction\n",
    "col         = 'Dependents'\n",
    "conditions  = [df[col] == '0', df[col] == '3+']\n",
    "choices     = ['0','2']\n",
    "    \n",
    "df[\"Dependents_level\"] = np.select(conditions, choices, default='1')\n",
    "df.drop(columns='Dependents', inplace=True)"
   ]
  },
  {
   "cell_type": "markdown",
   "id": "4698744a",
   "metadata": {},
   "source": [
    "#### Education\n",
    "* applicants  graduated is likely to get higher income and secure job which is showing their ability to pay back their loan soon."
   ]
  },
  {
   "cell_type": "code",
   "execution_count": 279,
   "id": "36a7af98",
   "metadata": {},
   "outputs": [
    {
     "name": "stdout",
     "output_type": "stream",
     "text": [
      " The average income of applicants with education is 7575.0\n",
      " The total number of yes history score is 5054.0\n"
     ]
    }
   ],
   "source": [
    "# lets see how applicants graduated and their income are\n",
    "avg_income_no_grad = df.groupby('Education')['Total_Income'].mean().iloc[1].round(0)\n",
    "avg_income_yes_grad = df.groupby('Education')['Total_Income'].mean().iloc[0].round(0)\n",
    "\n",
    "print(f' The average income of applicants with education is {avg_income_yes_grad}')\n",
    "print(f' The total number of yes history score is {avg_income_no_grad}')"
   ]
  },
  {
   "cell_type": "markdown",
   "id": "33dbbae0",
   "metadata": {},
   "source": [
    "* As I suggested, applicants graduated have higher income"
   ]
  },
  {
   "cell_type": "code",
   "execution_count": 280,
   "id": "c4fcf56f",
   "metadata": {},
   "outputs": [
    {
     "data": {
      "text/plain": [
       "array(['Graduate', 'Not Graduate'], dtype=object)"
      ]
     },
     "execution_count": 280,
     "metadata": {},
     "output_type": "execute_result"
    }
   ],
   "source": [
    "# lets see do applicants with graduate have higher approval rate\n",
    "df['Education'].unique()"
   ]
  },
  {
   "cell_type": "code",
   "execution_count": 281,
   "id": "776726c5",
   "metadata": {},
   "outputs": [],
   "source": [
    "df_yes_grad = df[df['Education'] == \"Graduate\"]\n",
    "df_no_grad = df[df['Education'] == \"Not Graduate\"]"
   ]
  },
  {
   "cell_type": "code",
   "execution_count": 282,
   "id": "91fdd0ff",
   "metadata": {},
   "outputs": [
    {
     "data": {
      "text/plain": [
       "Text(0.5, 1.0, 'Applicants graduate')"
      ]
     },
     "execution_count": 282,
     "metadata": {},
     "output_type": "execute_result"
    },
    {
     "data": {
      "image/png": "[encoded data removed]",
      "text/plain": [
       "<Figure size 432x288 with 1 Axes>"
      ]
     },
     "metadata": {},
     "output_type": "display_data"
    }
   ],
   "source": [
    "##ploting grad applicants\n",
    "plt.hist(df_yes_grad['Loan_Status'], bins=2)\n",
    "plt.xlabel(\"Loan Status\")\n",
    "plt.ylabel(\"Count per status\")\n",
    "plt.title(\"Applicants graduate\")"
   ]
  },
  {
   "cell_type": "code",
   "execution_count": 283,
   "id": "9d5dcc17",
   "metadata": {},
   "outputs": [
    {
     "data": {
      "text/plain": [
       "Text(0.5, 1.0, 'Applicants not graduate')"
      ]
     },
     "execution_count": 283,
     "metadata": {},
     "output_type": "execute_result"
    },
    {
     "data": {
      "image/png": "[encoded data removed]",
      "text/plain": [
       "<Figure size 432x288 with 1 Axes>"
      ]
     },
     "metadata": {},
     "output_type": "display_data"
    }
   ],
   "source": [
    "##ploting not grad applicants\n",
    "plt.hist(df_no_grad['Loan_Status'], bins=2)\n",
    "plt.xlabel(\"Loan Status\")\n",
    "plt.ylabel(\"Count per status\")\n",
    "plt.title(\"Applicants not graduate\")"
   ]
  },
  {
   "cell_type": "markdown",
   "id": "dc4a562d",
   "metadata": {},
   "source": [
    "* this shows my hypothesis is wrong, applicants education is not likely to be considered to loan dicision"
   ]
  },
  {
   "cell_type": "markdown",
   "id": "1173e547",
   "metadata": {},
   "source": [
    "#### ApplicantIncome and CoApplicantIncome\n",
    "* Applicants with higher applicantincome and co-applicantincome has more more likely get approval. Income is evidently showing their ability to pay back their loan\n",
    "* A total_income column will have more power of prediction"
   ]
  },
  {
   "cell_type": "code",
   "execution_count": 284,
   "id": "546957a9",
   "metadata": {},
   "outputs": [],
   "source": [
    "# add a Total_Income column which add applicantincome and co-applicantincome\n",
    "df_income = df.copy()\n",
    "#df_income['Total_Income'] = df_income['ApplicantIncome'] + df_income['CoapplicantIncome'] #ApplicantIncome + CoapplicantIncome"
   ]
  },
  {
   "cell_type": "code",
   "execution_count": 285,
   "id": "414fae8f",
   "metadata": {},
   "outputs": [
    {
     "data": {
      "text/plain": [
       "Gender               object\n",
       "Married              object\n",
       "Education            object\n",
       "Self_Employed        object\n",
       "LoanAmount            int64\n",
       "Loan_Amount_Term    float64\n",
       "Credit_History        int64\n",
       "Property_Area        object\n",
       "Loan_Status          object\n",
       "Total_Income          int64\n",
       "Dependents_level     object\n",
       "dtype: object"
      ]
     },
     "execution_count": 285,
     "metadata": {},
     "output_type": "execute_result"
    }
   ],
   "source": [
    "df_income.dtypes"
   ]
  },
  {
   "cell_type": "code",
   "execution_count": 286,
   "id": "3351b9cb",
   "metadata": {},
   "outputs": [
    {
     "data": {
      "image/png": "[encoded data removed]",
      "text/plain": [
       "<Figure size 360x360 with 1 Axes>"
      ]
     },
     "metadata": {},
     "output_type": "display_data"
    }
   ],
   "source": [
    "# Plotting Income distribution\n",
    "sns.set_theme(style=\"darkgrid\")\n",
    "sns.displot(df_income, x=\"Total_Income\",kind='kde')\n",
    "plt.title(\"Total Income Distribution\", size=15)\n",
    "plt.show()"
   ]
  },
  {
   "cell_type": "code",
   "execution_count": 287,
   "id": "e0baeff5",
   "metadata": {},
   "outputs": [],
   "source": [
    "#group income into under 3,000, 3 to 5,000, 5 to 7,000, and above 7,000\n",
    "df_2500 = df_income[df_income['Total_Income'] < float(2500)]\n",
    "df_4000 = df_income.loc[(df_income['Total_Income'] >= float(2500)) & (df_income['Total_Income'] < float(4000))]\n",
    "df_6000 = df_income.loc[(df_income['Total_Income'] >= float(4000)) & (df_income['Total_Income'] < float(6000))]\n",
    "df_ab_6 = df_income[df_income['Total_Income'] >= float(6000)]"
   ]
  },
  {
   "cell_type": "code",
   "execution_count": 288,
   "id": "4d918302",
   "metadata": {},
   "outputs": [
    {
     "data": {
      "text/plain": [
       "Text(0.5, 1.0, 'Loan Status with income under 2500')"
      ]
     },
     "execution_count": 288,
     "metadata": {},
     "output_type": "execute_result"
    },
    {
     "data": {
      "image/png": "[encoded data removed]",
      "text/plain": [
       "<Figure size 432x288 with 1 Axes>"
      ]
     },
     "metadata": {},
     "output_type": "display_data"
    }
   ],
   "source": [
    "##ploting Income\n",
    "plt.hist(df_2500['Loan_Status'], bins=2)\n",
    "plt.xlabel(\"Loan Status\")\n",
    "plt.ylabel(\"Count per status\")\n",
    "plt.title(\"Loan Status with income under 2500\")"
   ]
  },
  {
   "cell_type": "code",
   "execution_count": 289,
   "id": "2ccf3db4",
   "metadata": {},
   "outputs": [
    {
     "data": {
      "text/plain": [
       "Text(0.5, 1.0, 'Loan Status with income 2500 to 6000')"
      ]
     },
     "execution_count": 289,
     "metadata": {},
     "output_type": "execute_result"
    },
    {
     "data": {
      "image/png": "[encoded data removed]",
      "text/plain": [
       "<Figure size 432x288 with 1 Axes>"
      ]
     },
     "metadata": {},
     "output_type": "display_data"
    }
   ],
   "source": [
    "##\n",
    "plt.hist(df_4000['Loan_Status'], bins=2)\n",
    "plt.xlabel(\"Loan Status\")\n",
    "plt.ylabel(\"Count per status\")\n",
    "plt.title(\"Loan Status with income 2500 to 6000\")"
   ]
  },
  {
   "cell_type": "code",
   "execution_count": 290,
   "id": "530646be",
   "metadata": {},
   "outputs": [
    {
     "data": {
      "text/plain": [
       "Text(0.5, 1.0, 'Loan Status with income 4000 to 6000')"
      ]
     },
     "execution_count": 290,
     "metadata": {},
     "output_type": "execute_result"
    },
    {
     "data": {
      "image/png": "[encoded data removed]",
      "text/plain": [
       "<Figure size 432x288 with 1 Axes>"
      ]
     },
     "metadata": {},
     "output_type": "display_data"
    }
   ],
   "source": [
    "##ploting Income\n",
    "plt.hist(df_6000['Loan_Status'], bins=2)\n",
    "plt.xlabel(\"Loan Status\")\n",
    "plt.ylabel(\"Count per status\")\n",
    "plt.title(\"Loan Status with income 4000 to 6000\")"
   ]
  },
  {
   "cell_type": "code",
   "execution_count": 291,
   "id": "10f8f35b",
   "metadata": {},
   "outputs": [
    {
     "data": {
      "text/plain": [
       "Text(0.5, 1.0, 'Loan Status with income over 6000')"
      ]
     },
     "execution_count": 291,
     "metadata": {},
     "output_type": "execute_result"
    },
    {
     "data": {
      "image/png": "[encoded data removed]",
      "text/plain": [
       "<Figure size 432x288 with 1 Axes>"
      ]
     },
     "metadata": {},
     "output_type": "display_data"
    }
   ],
   "source": [
    "##\n",
    "plt.hist(df_ab_6['Loan_Status'], bins=2)\n",
    "plt.xlabel(\"Loan Status\")\n",
    "plt.ylabel(\"Count per status\")\n",
    "plt.title(\"Loan Status with income over 6000\")"
   ]
  },
  {
   "cell_type": "markdown",
   "id": "694a233a",
   "metadata": {},
   "source": [
    "* this shows us higher income is likely to get approval"
   ]
  },
  {
   "cell_type": "markdown",
   "id": "2a730603",
   "metadata": {},
   "source": [
    "#### Self_employed\n",
    "* Applicants with self_employed are likely to get approval, If they own a business(For those self_employed they will have high income which is the outlier in Income)"
   ]
  },
  {
   "cell_type": "code",
   "execution_count": 292,
   "id": "5fbf308f",
   "metadata": {},
   "outputs": [
    {
     "data": {
      "text/plain": [
       "<AxesSubplot:title={'center':'Total_Income'}, xlabel='Self_Employed'>"
      ]
     },
     "execution_count": 292,
     "metadata": {},
     "output_type": "execute_result"
    },
    {
     "data": {
      "image/png": "[encoded data removed]",
      "text/plain": [
       "<Figure size 360x432 with 1 Axes>"
      ]
     },
     "metadata": {},
     "output_type": "display_data"
    }
   ],
   "source": [
    "# Generating boxplot for CarPrice Vs FuelType\n",
    "df_income.boxplot(column='Total_Income', by='Self_Employed', figsize=(5,6))"
   ]
  },
  {
   "cell_type": "markdown",
   "id": "a8563a91",
   "metadata": {},
   "source": [
    "* Non sefl employed has the most higher income. My hypothesis was wrong, They are not outlier having highest income groups"
   ]
  },
  {
   "cell_type": "code",
   "execution_count": 293,
   "id": "9f88af71",
   "metadata": {},
   "outputs": [],
   "source": [
    "# Lets see if they are likely to get approval\n",
    "self_df = df_income[df_income['Self_Employed'] == 'Yes']\n",
    "Nonself_df = df_income[df_income['Self_Employed'] == 'No']"
   ]
  },
  {
   "cell_type": "code",
   "execution_count": 294,
   "id": "b8f638f7",
   "metadata": {},
   "outputs": [
    {
     "data": {
      "text/plain": [
       "Text(0.5, 1.0, 'self_employed')"
      ]
     },
     "execution_count": 294,
     "metadata": {},
     "output_type": "execute_result"
    },
    {
     "data": {
      "image/png": "[encoded data removed]",
      "text/plain": [
       "<Figure size 432x288 with 1 Axes>"
      ]
     },
     "metadata": {},
     "output_type": "display_data"
    }
   ],
   "source": [
    "##ploting self_employed\n",
    "plt.hist(self_df['Loan_Status'], bins=2)\n",
    "plt.xlabel(\"Loan Status\")\n",
    "plt.ylabel(\"Count per status\")\n",
    "plt.title(\"self_employed\")"
   ]
  },
  {
   "cell_type": "code",
   "execution_count": 295,
   "id": "a4db9d93",
   "metadata": {},
   "outputs": [
    {
     "data": {
      "text/plain": [
       "Text(0.5, 1.0, 'Non self_employed')"
      ]
     },
     "execution_count": 295,
     "metadata": {},
     "output_type": "execute_result"
    },
    {
     "data": {
      "image/png": "[encoded data removed]",
      "text/plain": [
       "<Figure size 432x288 with 1 Axes>"
      ]
     },
     "metadata": {},
     "output_type": "display_data"
    }
   ],
   "source": [
    "##ploting Non self_employed\n",
    "plt.hist(Nonself_df['Loan_Status'], bins=2)\n",
    "plt.xlabel(\"Loan Status\")\n",
    "plt.ylabel(\"Count per status\")\n",
    "plt.title(\"Non self_employed\")"
   ]
  },
  {
   "cell_type": "markdown",
   "id": "868b1887",
   "metadata": {},
   "source": [
    "* As we can see, both group has almost equal approval rate, then self_employed or not is not sigifincantly considered to loan dicision"
   ]
  }
 ],
 "metadata": {
  "kernelspec": {
   "display_name": "Python 3 (ipykernel)",
   "language": "python",
   "name": "python3"
  },
  "language_info": {
   "codemirror_mode": {
    "name": "ipython",
    "version": 3
   },
   "file_extension": ".py",
   "mimetype": "text/x-python",
   "name": "python",
   "nbconvert_exporter": "python",
   "pygments_lexer": "ipython3",
   "version": "3.9.13"
  }
 },
 "nbformat": 4,
 "nbformat_minor": 5
}
