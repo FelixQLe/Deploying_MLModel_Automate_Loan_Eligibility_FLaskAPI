{
 "cells": [
  {
   "cell_type": "markdown",
   "id": "e4962fc0",
   "metadata": {},
   "source": [
    "#### Build model for prediction"
   ]
  },
  {
   "cell_type": "code",
   "execution_count": 337,
   "id": "40d0897f",
   "metadata": {},
   "outputs": [],
   "source": [
    "import numpy as np\n",
    "import pandas as pd\n",
    "from sklearn.preprocessing import StandardScaler\n",
    "from sklearn.preprocessing import FunctionTransformer\n",
    "from sklearn.pipeline import Pipeline, FeatureUnion\n",
    "from sklearn.model_selection import train_test_split\n",
    "from sklearn.preprocessing import LabelEncoder\n",
    "from sklearn.compose import ColumnTransformer\n",
    "from sklearn.base import BaseEstimator,TransformerMixin\n",
    "\n",
    "from sklearn.feature_selection import SelectKBest\n",
    "from sklearn.decomposition import PCA\n",
    "from sklearn.ensemble import RandomForestClassifier\n",
    "from sklearn.model_selection import GridSearchCV\n",
    "from sklearn.linear_model import RidgeClassifier\n",
    "\n",
    "\n",
    "from sklearn import set_config\n",
    "set_config(display='diagram')\n",
    "\n",
    "\n",
    "import pickle"
   ]
  },
  {
   "cell_type": "code",
   "execution_count": 303,
   "id": "bc91a3ae",
   "metadata": {},
   "outputs": [
    {
     "data": {
      "text/html": [
       "<div>\n",
       "<style scoped>\n",
       "    .dataframe tbody tr th:only-of-type {\n",
       "        vertical-align: middle;\n",
       "    }\n",
       "\n",
       "    .dataframe tbody tr th {\n",
       "        vertical-align: top;\n",
       "    }\n",
       "\n",
       "    .dataframe thead th {\n",
       "        text-align: right;\n",
       "    }\n",
       "</style>\n",
       "<table border=\"1\" class=\"dataframe\">\n",
       "  <thead>\n",
       "    <tr style=\"text-align: right;\">\n",
       "      <th></th>\n",
       "      <th>Gender</th>\n",
       "      <th>Married</th>\n",
       "      <th>Dependents</th>\n",
       "      <th>Education</th>\n",
       "      <th>Self_Employed</th>\n",
       "      <th>LoanAmount</th>\n",
       "      <th>Loan_Amount_Term</th>\n",
       "      <th>Credit_History</th>\n",
       "      <th>Property_Area</th>\n",
       "      <th>Loan_Status</th>\n",
       "      <th>Total_Income</th>\n",
       "    </tr>\n",
       "  </thead>\n",
       "  <tbody>\n",
       "    <tr>\n",
       "      <th>0</th>\n",
       "      <td>Male</td>\n",
       "      <td>No</td>\n",
       "      <td>0</td>\n",
       "      <td>Graduate</td>\n",
       "      <td>No</td>\n",
       "      <td>146</td>\n",
       "      <td>360.0</td>\n",
       "      <td>1</td>\n",
       "      <td>Urban</td>\n",
       "      <td>1</td>\n",
       "      <td>5849</td>\n",
       "    </tr>\n",
       "    <tr>\n",
       "      <th>1</th>\n",
       "      <td>Male</td>\n",
       "      <td>Yes</td>\n",
       "      <td>1</td>\n",
       "      <td>Graduate</td>\n",
       "      <td>No</td>\n",
       "      <td>128</td>\n",
       "      <td>360.0</td>\n",
       "      <td>1</td>\n",
       "      <td>Rural</td>\n",
       "      <td>0</td>\n",
       "      <td>6091</td>\n",
       "    </tr>\n",
       "    <tr>\n",
       "      <th>2</th>\n",
       "      <td>Male</td>\n",
       "      <td>Yes</td>\n",
       "      <td>0</td>\n",
       "      <td>Graduate</td>\n",
       "      <td>Yes</td>\n",
       "      <td>66</td>\n",
       "      <td>360.0</td>\n",
       "      <td>1</td>\n",
       "      <td>Urban</td>\n",
       "      <td>1</td>\n",
       "      <td>3000</td>\n",
       "    </tr>\n",
       "    <tr>\n",
       "      <th>3</th>\n",
       "      <td>Male</td>\n",
       "      <td>Yes</td>\n",
       "      <td>0</td>\n",
       "      <td>Not Graduate</td>\n",
       "      <td>No</td>\n",
       "      <td>120</td>\n",
       "      <td>360.0</td>\n",
       "      <td>1</td>\n",
       "      <td>Urban</td>\n",
       "      <td>1</td>\n",
       "      <td>4941</td>\n",
       "    </tr>\n",
       "    <tr>\n",
       "      <th>4</th>\n",
       "      <td>Male</td>\n",
       "      <td>No</td>\n",
       "      <td>0</td>\n",
       "      <td>Graduate</td>\n",
       "      <td>No</td>\n",
       "      <td>141</td>\n",
       "      <td>360.0</td>\n",
       "      <td>1</td>\n",
       "      <td>Urban</td>\n",
       "      <td>1</td>\n",
       "      <td>6000</td>\n",
       "    </tr>\n",
       "  </tbody>\n",
       "</table>\n",
       "</div>"
      ],
      "text/plain": [
       "  Gender Married Dependents     Education Self_Employed  LoanAmount  \\\n",
       "0   Male      No          0      Graduate            No         146   \n",
       "1   Male     Yes          1      Graduate            No         128   \n",
       "2   Male     Yes          0      Graduate           Yes          66   \n",
       "3   Male     Yes          0  Not Graduate            No         120   \n",
       "4   Male      No          0      Graduate            No         141   \n",
       "\n",
       "   Loan_Amount_Term  Credit_History Property_Area  Loan_Status  Total_Income  \n",
       "0             360.0               1         Urban            1          5849  \n",
       "1             360.0               1         Rural            0          6091  \n",
       "2             360.0               1         Urban            1          3000  \n",
       "3             360.0               1         Urban            1          4941  \n",
       "4             360.0               1         Urban            1          6000  "
      ]
     },
     "execution_count": 303,
     "metadata": {},
     "output_type": "execute_result"
    }
   ],
   "source": [
    "df = pd.read_csv(\"/Users/hople/Desktop/Bootcamp Lectures/week_7/mini-project-4/data/cleaned_data.csv\")\n",
    "df.drop(columns='Unnamed: 0', inplace=True)\n",
    "df.head(5)"
   ]
  },
  {
   "cell_type": "code",
   "execution_count": 330,
   "id": "d9934ee8",
   "metadata": {},
   "outputs": [],
   "source": [
    "#get data and target\n",
    "X, y = df.drop(columns='Loan_Status'), df['Loan_Status'].values\n",
    "\n",
    "X_train, X_test, y_train, y_test = train_test_split(X, y, test_size=0.2, random_state=48)"
   ]
  },
  {
   "cell_type": "code",
   "execution_count": 331,
   "id": "4a8f924f",
   "metadata": {},
   "outputs": [],
   "source": [
    "#Log function\n",
    "def log_transform(x):\n",
    "    return np.log(x + 1)\n",
    "\n",
    "# Labelencoder to Gender_transform, Married_transform, Self_Eployed_transform, Edu_transform(x):\n",
    "    \n",
    "def Loan_term(X):\n",
    "    X = X/12\n",
    "    return X.astype(int)\n",
    "\n",
    "def Dependents_transform(X):\n",
    "    col = 'Dependents'\n",
    "    conditions  = [X == '0', X == '3+']\n",
    "    \n",
    "    X = np.select(conditions, [0,2], default=1)\n",
    "    \n",
    "    return X\n",
    "\n",
    "class CustomLabelEncode(BaseEstimator, TransformerMixin):\n",
    "    def fit(self, X, y=None):\n",
    "        return self\n",
    "    def transform(self, X ,y=None):\n",
    "        le=LabelEncoder()\n",
    "        for i in X[label_cols]:\n",
    "            X[i]=le.fit_transform(X[i])\n",
    "        return X"
   ]
  },
  {
   "cell_type": "code",
   "execution_count": 332,
   "id": "4f263715",
   "metadata": {},
   "outputs": [],
   "source": [
    "#extract columns\n",
    "label_cols = ['Gender','Married', 'Self_Employed', 'Education', 'Property_Area']\n",
    "log_scale_cols = ['LoanAmount', 'Total_Income']\n",
    "depep_cols = ['Dependents']\n",
    "loan_cols = ['Loan_Amount_Term']"
   ]
  },
  {
   "cell_type": "code",
   "execution_count": 333,
   "id": "e95ca6e0",
   "metadata": {},
   "outputs": [],
   "source": [
    "#lb = ModifiedLabelEncoder()\n",
    "log_transformer = FunctionTransformer(log_transform)\n",
    "loan_transformer = FunctionTransformer(Loan_term)\n",
    "dependents_transformer = FunctionTransformer(Dependents_transform)\n",
    "sc = StandardScaler()\n",
    "selection = SelectKBest(k=4)\n"
   ]
  },
  {
   "cell_type": "code",
   "execution_count": 339,
   "id": "3352ba8d",
   "metadata": {},
   "outputs": [],
   "source": [
    "# Preprocessing pipeline\n",
    "num_pipe = Pipeline([\n",
    "  ('log_feats', log_transformer),\n",
    "  ('scaler', sc)\n",
    "])\n",
    "\n",
    "\n",
    "cols_transform = ColumnTransformer([\n",
    "    ('num_transform', num_pipe, log_scale_cols),\n",
    "    ('dependents_transforme', dependents_transformer, depep_cols),\n",
    "    ('loan_transform', loan_transformer, loan_cols),\n",
    "    ('label_encoder', CustomLabelEncode(), label_cols)\n",
    "],remainder='passthrough')\n",
    "\n",
    "\n",
    "feature_union = FeatureUnion([('pca', PCA()),\n",
    "                              ('select_best', SelectKBest())])"
   ]
  },
  {
   "cell_type": "code",
   "execution_count": 345,
   "id": "b8e1ae6b",
   "metadata": {},
   "outputs": [
    {
     "name": "stdout",
     "output_type": "stream",
     "text": [
      "Best test set accuracy:\n",
      "\t 0.7642276422764228\n",
      "Achieved with hyperparameters:\n",
      "\t {'classifier__alpha': 0.001, 'features__pca__n_components': 3, 'features__select_best__k': 1}\n"
     ]
    }
   ],
   "source": [
    "main_pipeline = Pipeline(steps=[('preprocessing', cols_transform),\n",
    "                                ('features', feature_union),\n",
    "                                ('classifier', RidgeClassifier())])\n",
    "\n",
    "# Find the best hyperparameters using GridSearchCV on the train set\n",
    "param_grid = {'classifier__alpha': [0.001, 0.003, 0.01, 0.1], \n",
    "              'features__pca__n_components': [3,5,7],\n",
    "              'features__select_best__k': [1,3,4,6]}\n",
    "\n",
    "grid = GridSearchCV(main_pipeline, param_grid=param_grid, cv=5)\n",
    "grid.fit(X_train, y_train)\n",
    "\n",
    "\n",
    "best_model = grid.best_estimator_\n",
    "best_hyperparams = grid.best_params_\n",
    "best_acc = grid.score(X_test, y_test)\n",
    "print(f'Best test set accuracy:\\n\\t {best_acc}\\nAchieved with hyperparameters:\\n\\t {best_hyperparams}')"
   ]
  },
  {
   "cell_type": "code",
   "execution_count": 326,
   "id": "91ed5014",
   "metadata": {},
   "outputs": [],
   "source": []
  },
  {
   "cell_type": "code",
   "execution_count": 349,
   "id": "19799f04",
   "metadata": {},
   "outputs": [
    {
     "data": {
      "text/html": [
       "<style>#sk-41129e38-4e98-4ed6-b9f9-e4514db99823 {color: black;background-color: white;}#sk-41129e38-4e98-4ed6-b9f9-e4514db99823 pre{padding: 0;}#sk-41129e38-4e98-4ed6-b9f9-e4514db99823 div.sk-toggleable {background-color: white;}#sk-41129e38-4e98-4ed6-b9f9-e4514db99823 label.sk-toggleable__label {cursor: pointer;display: block;width: 100%;margin-bottom: 0;padding: 0.3em;box-sizing: border-box;text-align: center;}#sk-41129e38-4e98-4ed6-b9f9-e4514db99823 label.sk-toggleable__label-arrow:before {content: \"▸\";float: left;margin-right: 0.25em;color: #696969;}#sk-41129e38-4e98-4ed6-b9f9-e4514db99823 label.sk-toggleable__label-arrow:hover:before {color: black;}#sk-41129e38-4e98-4ed6-b9f9-e4514db99823 div.sk-estimator:hover label.sk-toggleable__label-arrow:before {color: black;}#sk-41129e38-4e98-4ed6-b9f9-e4514db99823 div.sk-toggleable__content {max-height: 0;max-width: 0;overflow: hidden;text-align: left;background-color: #f0f8ff;}#sk-41129e38-4e98-4ed6-b9f9-e4514db99823 div.sk-toggleable__content pre {margin: 0.2em;color: black;border-radius: 0.25em;background-color: #f0f8ff;}#sk-41129e38-4e98-4ed6-b9f9-e4514db99823 input.sk-toggleable__control:checked~div.sk-toggleable__content {max-height: 200px;max-width: 100%;overflow: auto;}#sk-41129e38-4e98-4ed6-b9f9-e4514db99823 input.sk-toggleable__control:checked~label.sk-toggleable__label-arrow:before {content: \"▾\";}#sk-41129e38-4e98-4ed6-b9f9-e4514db99823 div.sk-estimator input.sk-toggleable__control:checked~label.sk-toggleable__label {background-color: #d4ebff;}#sk-41129e38-4e98-4ed6-b9f9-e4514db99823 div.sk-label input.sk-toggleable__control:checked~label.sk-toggleable__label {background-color: #d4ebff;}#sk-41129e38-4e98-4ed6-b9f9-e4514db99823 input.sk-hidden--visually {border: 0;clip: rect(1px 1px 1px 1px);clip: rect(1px, 1px, 1px, 1px);height: 1px;margin: -1px;overflow: hidden;padding: 0;position: absolute;width: 1px;}#sk-41129e38-4e98-4ed6-b9f9-e4514db99823 div.sk-estimator {font-family: monospace;background-color: #f0f8ff;border: 1px dotted black;border-radius: 0.25em;box-sizing: border-box;margin-bottom: 0.5em;}#sk-41129e38-4e98-4ed6-b9f9-e4514db99823 div.sk-estimator:hover {background-color: #d4ebff;}#sk-41129e38-4e98-4ed6-b9f9-e4514db99823 div.sk-parallel-item::after {content: \"\";width: 100%;border-bottom: 1px solid gray;flex-grow: 1;}#sk-41129e38-4e98-4ed6-b9f9-e4514db99823 div.sk-label:hover label.sk-toggleable__label {background-color: #d4ebff;}#sk-41129e38-4e98-4ed6-b9f9-e4514db99823 div.sk-serial::before {content: \"\";position: absolute;border-left: 1px solid gray;box-sizing: border-box;top: 2em;bottom: 0;left: 50%;}#sk-41129e38-4e98-4ed6-b9f9-e4514db99823 div.sk-serial {display: flex;flex-direction: column;align-items: center;background-color: white;padding-right: 0.2em;padding-left: 0.2em;}#sk-41129e38-4e98-4ed6-b9f9-e4514db99823 div.sk-item {z-index: 1;}#sk-41129e38-4e98-4ed6-b9f9-e4514db99823 div.sk-parallel {display: flex;align-items: stretch;justify-content: center;background-color: white;}#sk-41129e38-4e98-4ed6-b9f9-e4514db99823 div.sk-parallel::before {content: \"\";position: absolute;border-left: 1px solid gray;box-sizing: border-box;top: 2em;bottom: 0;left: 50%;}#sk-41129e38-4e98-4ed6-b9f9-e4514db99823 div.sk-parallel-item {display: flex;flex-direction: column;position: relative;background-color: white;}#sk-41129e38-4e98-4ed6-b9f9-e4514db99823 div.sk-parallel-item:first-child::after {align-self: flex-end;width: 50%;}#sk-41129e38-4e98-4ed6-b9f9-e4514db99823 div.sk-parallel-item:last-child::after {align-self: flex-start;width: 50%;}#sk-41129e38-4e98-4ed6-b9f9-e4514db99823 div.sk-parallel-item:only-child::after {width: 0;}#sk-41129e38-4e98-4ed6-b9f9-e4514db99823 div.sk-dashed-wrapped {border: 1px dashed gray;margin: 0 0.4em 0.5em 0.4em;box-sizing: border-box;padding-bottom: 0.4em;background-color: white;position: relative;}#sk-41129e38-4e98-4ed6-b9f9-e4514db99823 div.sk-label label {font-family: monospace;font-weight: bold;background-color: white;display: inline-block;line-height: 1.2em;}#sk-41129e38-4e98-4ed6-b9f9-e4514db99823 div.sk-label-container {position: relative;z-index: 2;text-align: center;}#sk-41129e38-4e98-4ed6-b9f9-e4514db99823 div.sk-container {/* jupyter's `normalize.less` sets `[hidden] { display: none; }` but bootstrap.min.css set `[hidden] { display: none !important; }` so we also need the `!important` here to be able to override the default hidden behavior on the sphinx rendered scikit-learn.org. See: https://github.com/scikit-learn/scikit-learn/issues/21755 */display: inline-block !important;position: relative;}#sk-41129e38-4e98-4ed6-b9f9-e4514db99823 div.sk-text-repr-fallback {display: none;}</style><div id=\"sk-41129e38-4e98-4ed6-b9f9-e4514db99823\" class=\"sk-top-container\"><div class=\"sk-text-repr-fallback\"><pre>GridSearchCV(cv=5,\n",
       "             estimator=Pipeline(steps=[(&#x27;preprocessing&#x27;,\n",
       "                                        ColumnTransformer(remainder=&#x27;passthrough&#x27;,\n",
       "                                                          transformers=[(&#x27;num_transform&#x27;,\n",
       "                                                                         Pipeline(steps=[(&#x27;log_feats&#x27;,\n",
       "                                                                                          FunctionTransformer(func=&lt;function log_transform at 0x28a652700&gt;)),\n",
       "                                                                                         (&#x27;scaler&#x27;,\n",
       "                                                                                          StandardScaler())]),\n",
       "                                                                         [&#x27;LoanAmount&#x27;,\n",
       "                                                                          &#x27;Total_Income&#x27;]),\n",
       "                                                                        (&#x27;dependents_transforme&#x27;,\n",
       "                                                                         FunctionTransformer(func=&lt;function Dep...\n",
       "                                                                        (&#x27;label_encoder&#x27;,\n",
       "                                                                         CustomLabelEncode(),\n",
       "                                                                         [&#x27;Gender&#x27;,\n",
       "                                                                          &#x27;Married&#x27;,\n",
       "                                                                          &#x27;Self_Employed&#x27;,\n",
       "                                                                          &#x27;Education&#x27;,\n",
       "                                                                          &#x27;Property_Area&#x27;])])),\n",
       "                                       (&#x27;features&#x27;,\n",
       "                                        FeatureUnion(transformer_list=[(&#x27;pca&#x27;,\n",
       "                                                                        PCA()),\n",
       "                                                                       (&#x27;select_best&#x27;,\n",
       "                                                                        SelectKBest())])),\n",
       "                                       (&#x27;classifier&#x27;, RidgeClassifier())]),\n",
       "             param_grid={&#x27;classifier__alpha&#x27;: [0.001, 0.01, 0.1],\n",
       "                         &#x27;features__pca__n_components&#x27;: [3, 5],\n",
       "                         &#x27;features__select_best__k&#x27;: [1, 3, 6]})</pre><b>Please rerun this cell to show the HTML repr or trust the notebook.</b></div><div class=\"sk-container\" hidden><div class=\"sk-item sk-dashed-wrapped\"><div class=\"sk-label-container\"><div class=\"sk-label sk-toggleable\"><input class=\"sk-toggleable__control sk-hidden--visually\" id=\"4c18d144-3a0e-4b01-af84-8b874cd3280f\" type=\"checkbox\" ><label for=\"4c18d144-3a0e-4b01-af84-8b874cd3280f\" class=\"sk-toggleable__label sk-toggleable__label-arrow\">GridSearchCV</label><div class=\"sk-toggleable__content\"><pre>GridSearchCV(cv=5,\n",
       "             estimator=Pipeline(steps=[(&#x27;preprocessing&#x27;,\n",
       "                                        ColumnTransformer(remainder=&#x27;passthrough&#x27;,\n",
       "                                                          transformers=[(&#x27;num_transform&#x27;,\n",
       "                                                                         Pipeline(steps=[(&#x27;log_feats&#x27;,\n",
       "                                                                                          FunctionTransformer(func=&lt;function log_transform at 0x28a652700&gt;)),\n",
       "                                                                                         (&#x27;scaler&#x27;,\n",
       "                                                                                          StandardScaler())]),\n",
       "                                                                         [&#x27;LoanAmount&#x27;,\n",
       "                                                                          &#x27;Total_Income&#x27;]),\n",
       "                                                                        (&#x27;dependents_transforme&#x27;,\n",
       "                                                                         FunctionTransformer(func=&lt;function Dep...\n",
       "                                                                        (&#x27;label_encoder&#x27;,\n",
       "                                                                         CustomLabelEncode(),\n",
       "                                                                         [&#x27;Gender&#x27;,\n",
       "                                                                          &#x27;Married&#x27;,\n",
       "                                                                          &#x27;Self_Employed&#x27;,\n",
       "                                                                          &#x27;Education&#x27;,\n",
       "                                                                          &#x27;Property_Area&#x27;])])),\n",
       "                                       (&#x27;features&#x27;,\n",
       "                                        FeatureUnion(transformer_list=[(&#x27;pca&#x27;,\n",
       "                                                                        PCA()),\n",
       "                                                                       (&#x27;select_best&#x27;,\n",
       "                                                                        SelectKBest())])),\n",
       "                                       (&#x27;classifier&#x27;, RidgeClassifier())]),\n",
       "             param_grid={&#x27;classifier__alpha&#x27;: [0.001, 0.01, 0.1],\n",
       "                         &#x27;features__pca__n_components&#x27;: [3, 5],\n",
       "                         &#x27;features__select_best__k&#x27;: [1, 3, 6]})</pre></div></div></div><div class=\"sk-parallel\"><div class=\"sk-parallel-item\"><div class=\"sk-item\"><div class=\"sk-serial\"><div class=\"sk-item\"><div class=\"sk-serial\"><div class=\"sk-item sk-dashed-wrapped\"><div class=\"sk-label-container\"><div class=\"sk-label sk-toggleable\"><input class=\"sk-toggleable__control sk-hidden--visually\" id=\"7df85b34-e640-46e1-8ca0-dc56aeab5240\" type=\"checkbox\" ><label for=\"7df85b34-e640-46e1-8ca0-dc56aeab5240\" class=\"sk-toggleable__label sk-toggleable__label-arrow\">preprocessing: ColumnTransformer</label><div class=\"sk-toggleable__content\"><pre>ColumnTransformer(remainder=&#x27;passthrough&#x27;,\n",
       "                  transformers=[(&#x27;num_transform&#x27;,\n",
       "                                 Pipeline(steps=[(&#x27;log_feats&#x27;,\n",
       "                                                  FunctionTransformer(func=&lt;function log_transform at 0x28a652700&gt;)),\n",
       "                                                 (&#x27;scaler&#x27;, StandardScaler())]),\n",
       "                                 [&#x27;LoanAmount&#x27;, &#x27;Total_Income&#x27;]),\n",
       "                                (&#x27;dependents_transforme&#x27;,\n",
       "                                 FunctionTransformer(func=&lt;function Dependents_transform at 0x28a652e50&gt;),\n",
       "                                 [&#x27;Dependents&#x27;]),\n",
       "                                (&#x27;loan_transform&#x27;,\n",
       "                                 FunctionTransformer(func=&lt;function Loan_term at 0x28a6529d0&gt;),\n",
       "                                 [&#x27;Loan_Amount_Term&#x27;]),\n",
       "                                (&#x27;label_encoder&#x27;, CustomLabelEncode(),\n",
       "                                 [&#x27;Gender&#x27;, &#x27;Married&#x27;, &#x27;Self_Employed&#x27;,\n",
       "                                  &#x27;Education&#x27;, &#x27;Property_Area&#x27;])])</pre></div></div></div><div class=\"sk-parallel\"><div class=\"sk-parallel-item\"><div class=\"sk-item\"><div class=\"sk-label-container\"><div class=\"sk-label sk-toggleable\"><input class=\"sk-toggleable__control sk-hidden--visually\" id=\"d5039c1f-d8fb-4cdc-9217-ab394e597c72\" type=\"checkbox\" ><label for=\"d5039c1f-d8fb-4cdc-9217-ab394e597c72\" class=\"sk-toggleable__label sk-toggleable__label-arrow\">num_transform</label><div class=\"sk-toggleable__content\"><pre>[&#x27;LoanAmount&#x27;, &#x27;Total_Income&#x27;]</pre></div></div></div><div class=\"sk-serial\"><div class=\"sk-item\"><div class=\"sk-serial\"><div class=\"sk-item\"><div class=\"sk-estimator sk-toggleable\"><input class=\"sk-toggleable__control sk-hidden--visually\" id=\"2eb86431-2551-4d93-9910-22de0f6dd4c0\" type=\"checkbox\" ><label for=\"2eb86431-2551-4d93-9910-22de0f6dd4c0\" class=\"sk-toggleable__label sk-toggleable__label-arrow\">FunctionTransformer</label><div class=\"sk-toggleable__content\"><pre>FunctionTransformer(func=&lt;function log_transform at 0x28a652700&gt;)</pre></div></div></div><div class=\"sk-item\"><div class=\"sk-estimator sk-toggleable\"><input class=\"sk-toggleable__control sk-hidden--visually\" id=\"3150f554-3507-4b2e-acdf-95b63c4039fc\" type=\"checkbox\" ><label for=\"3150f554-3507-4b2e-acdf-95b63c4039fc\" class=\"sk-toggleable__label sk-toggleable__label-arrow\">StandardScaler</label><div class=\"sk-toggleable__content\"><pre>StandardScaler()</pre></div></div></div></div></div></div></div></div><div class=\"sk-parallel-item\"><div class=\"sk-item\"><div class=\"sk-label-container\"><div class=\"sk-label sk-toggleable\"><input class=\"sk-toggleable__control sk-hidden--visually\" id=\"94fc0534-e4f3-4069-a721-7e78992d7f10\" type=\"checkbox\" ><label for=\"94fc0534-e4f3-4069-a721-7e78992d7f10\" class=\"sk-toggleable__label sk-toggleable__label-arrow\">dependents_transforme</label><div class=\"sk-toggleable__content\"><pre>[&#x27;Dependents&#x27;]</pre></div></div></div><div class=\"sk-serial\"><div class=\"sk-item\"><div class=\"sk-estimator sk-toggleable\"><input class=\"sk-toggleable__control sk-hidden--visually\" id=\"9cac23fa-75d9-4907-9b7d-a9b7f7bc137e\" type=\"checkbox\" ><label for=\"9cac23fa-75d9-4907-9b7d-a9b7f7bc137e\" class=\"sk-toggleable__label sk-toggleable__label-arrow\">FunctionTransformer</label><div class=\"sk-toggleable__content\"><pre>FunctionTransformer(func=&lt;function Dependents_transform at 0x28a652e50&gt;)</pre></div></div></div></div></div></div><div class=\"sk-parallel-item\"><div class=\"sk-item\"><div class=\"sk-label-container\"><div class=\"sk-label sk-toggleable\"><input class=\"sk-toggleable__control sk-hidden--visually\" id=\"119e643e-3c70-47df-a2f8-9e4b3ce9d38e\" type=\"checkbox\" ><label for=\"119e643e-3c70-47df-a2f8-9e4b3ce9d38e\" class=\"sk-toggleable__label sk-toggleable__label-arrow\">loan_transform</label><div class=\"sk-toggleable__content\"><pre>[&#x27;Loan_Amount_Term&#x27;]</pre></div></div></div><div class=\"sk-serial\"><div class=\"sk-item\"><div class=\"sk-estimator sk-toggleable\"><input class=\"sk-toggleable__control sk-hidden--visually\" id=\"223aabba-33c6-4c8b-be07-4ca8dfeb708c\" type=\"checkbox\" ><label for=\"223aabba-33c6-4c8b-be07-4ca8dfeb708c\" class=\"sk-toggleable__label sk-toggleable__label-arrow\">FunctionTransformer</label><div class=\"sk-toggleable__content\"><pre>FunctionTransformer(func=&lt;function Loan_term at 0x28a6529d0&gt;)</pre></div></div></div></div></div></div><div class=\"sk-parallel-item\"><div class=\"sk-item\"><div class=\"sk-label-container\"><div class=\"sk-label sk-toggleable\"><input class=\"sk-toggleable__control sk-hidden--visually\" id=\"730739b3-c61c-4afd-bb3a-53c8578ce73a\" type=\"checkbox\" ><label for=\"730739b3-c61c-4afd-bb3a-53c8578ce73a\" class=\"sk-toggleable__label sk-toggleable__label-arrow\">label_encoder</label><div class=\"sk-toggleable__content\"><pre>[&#x27;Gender&#x27;, &#x27;Married&#x27;, &#x27;Self_Employed&#x27;, &#x27;Education&#x27;, &#x27;Property_Area&#x27;]</pre></div></div></div><div class=\"sk-serial\"><div class=\"sk-item\"><div class=\"sk-estimator sk-toggleable\"><input class=\"sk-toggleable__control sk-hidden--visually\" id=\"cddbbd71-978b-4939-8a11-6714b56a6ea3\" type=\"checkbox\" ><label for=\"cddbbd71-978b-4939-8a11-6714b56a6ea3\" class=\"sk-toggleable__label sk-toggleable__label-arrow\">CustomLabelEncode</label><div class=\"sk-toggleable__content\"><pre>CustomLabelEncode()</pre></div></div></div></div></div></div><div class=\"sk-parallel-item\"><div class=\"sk-item\"><div class=\"sk-label-container\"><div class=\"sk-label sk-toggleable\"><input class=\"sk-toggleable__control sk-hidden--visually\" id=\"a0cc0670-c00e-4d21-8195-677102f3a596\" type=\"checkbox\" ><label for=\"a0cc0670-c00e-4d21-8195-677102f3a596\" class=\"sk-toggleable__label sk-toggleable__label-arrow\">remainder</label><div class=\"sk-toggleable__content\"><pre>[&#x27;Credit_History&#x27;]</pre></div></div></div><div class=\"sk-serial\"><div class=\"sk-item\"><div class=\"sk-estimator sk-toggleable\"><input class=\"sk-toggleable__control sk-hidden--visually\" id=\"0fd5798a-5d01-4aa5-9e0e-a5f2c220bb72\" type=\"checkbox\" ><label for=\"0fd5798a-5d01-4aa5-9e0e-a5f2c220bb72\" class=\"sk-toggleable__label sk-toggleable__label-arrow\">passthrough</label><div class=\"sk-toggleable__content\"><pre>passthrough</pre></div></div></div></div></div></div></div></div><div class=\"sk-item sk-dashed-wrapped\"><div class=\"sk-label-container\"><div class=\"sk-label sk-toggleable\"><input class=\"sk-toggleable__control sk-hidden--visually\" id=\"8ec381f2-7dbe-4929-98d7-c8b980d14160\" type=\"checkbox\" ><label for=\"8ec381f2-7dbe-4929-98d7-c8b980d14160\" class=\"sk-toggleable__label sk-toggleable__label-arrow\">features: FeatureUnion</label><div class=\"sk-toggleable__content\"><pre>FeatureUnion(transformer_list=[(&#x27;pca&#x27;, PCA()), (&#x27;select_best&#x27;, SelectKBest())])</pre></div></div></div><div class=\"sk-parallel\"><div class=\"sk-parallel-item\"><div class=\"sk-item\"><div class=\"sk-label-container\"><div class=\"sk-label sk-toggleable\"><label>pca</label></div></div><div class=\"sk-serial\"><div class=\"sk-item\"><div class=\"sk-estimator sk-toggleable\"><input class=\"sk-toggleable__control sk-hidden--visually\" id=\"ebfaa861-352d-4baa-857b-30eeefb8aa38\" type=\"checkbox\" ><label for=\"ebfaa861-352d-4baa-857b-30eeefb8aa38\" class=\"sk-toggleable__label sk-toggleable__label-arrow\">PCA</label><div class=\"sk-toggleable__content\"><pre>PCA()</pre></div></div></div></div></div></div><div class=\"sk-parallel-item\"><div class=\"sk-item\"><div class=\"sk-label-container\"><div class=\"sk-label sk-toggleable\"><label>select_best</label></div></div><div class=\"sk-serial\"><div class=\"sk-item\"><div class=\"sk-estimator sk-toggleable\"><input class=\"sk-toggleable__control sk-hidden--visually\" id=\"7202a44e-398c-4d81-9923-58876eb08733\" type=\"checkbox\" ><label for=\"7202a44e-398c-4d81-9923-58876eb08733\" class=\"sk-toggleable__label sk-toggleable__label-arrow\">SelectKBest</label><div class=\"sk-toggleable__content\"><pre>SelectKBest()</pre></div></div></div></div></div></div></div></div><div class=\"sk-item\"><div class=\"sk-estimator sk-toggleable\"><input class=\"sk-toggleable__control sk-hidden--visually\" id=\"ba5707ac-e4e4-45b5-aec9-d19fb9f029f7\" type=\"checkbox\" ><label for=\"ba5707ac-e4e4-45b5-aec9-d19fb9f029f7\" class=\"sk-toggleable__label sk-toggleable__label-arrow\">RidgeClassifier</label><div class=\"sk-toggleable__content\"><pre>RidgeClassifier()</pre></div></div></div></div></div></div></div></div></div></div></div></div>"
      ],
      "text/plain": [
       "GridSearchCV(cv=5,\n",
       "             estimator=Pipeline(steps=[('preprocessing',\n",
       "                                        ColumnTransformer(remainder='passthrough',\n",
       "                                                          transformers=[('num_transform',\n",
       "                                                                         Pipeline(steps=[('log_feats',\n",
       "                                                                                          FunctionTransformer(func=<function log_transform at 0x28a652700>)),\n",
       "                                                                                         ('scaler',\n",
       "                                                                                          StandardScaler())]),\n",
       "                                                                         ['LoanAmount',\n",
       "                                                                          'Total_Income']),\n",
       "                                                                        ('dependents_transforme',\n",
       "                                                                         FunctionTransformer(func=<function Dep...\n",
       "                                                                        ('label_encoder',\n",
       "                                                                         CustomLabelEncode(),\n",
       "                                                                         ['Gender',\n",
       "                                                                          'Married',\n",
       "                                                                          'Self_Employed',\n",
       "                                                                          'Education',\n",
       "                                                                          'Property_Area'])])),\n",
       "                                       ('features',\n",
       "                                        FeatureUnion(transformer_list=[('pca',\n",
       "                                                                        PCA()),\n",
       "                                                                       ('select_best',\n",
       "                                                                        SelectKBest())])),\n",
       "                                       ('classifier', RidgeClassifier())]),\n",
       "             param_grid={'classifier__alpha': [0.001, 0.01, 0.1],\n",
       "                         'features__pca__n_components': [3, 5],\n",
       "                         'features__select_best__k': [1, 3, 6]})"
      ]
     },
     "execution_count": 349,
     "metadata": {},
     "output_type": "execute_result"
    }
   ],
   "source": [
    "grid.fit(X_train, y_train)"
   ]
  },
  {
   "cell_type": "code",
   "execution_count": 350,
   "id": "e0bb520f",
   "metadata": {},
   "outputs": [
    {
     "data": {
      "text/html": [
       "<style>#sk-49e4ad84-6817-4008-9515-b8170d0e2e81 {color: black;background-color: white;}#sk-49e4ad84-6817-4008-9515-b8170d0e2e81 pre{padding: 0;}#sk-49e4ad84-6817-4008-9515-b8170d0e2e81 div.sk-toggleable {background-color: white;}#sk-49e4ad84-6817-4008-9515-b8170d0e2e81 label.sk-toggleable__label {cursor: pointer;display: block;width: 100%;margin-bottom: 0;padding: 0.3em;box-sizing: border-box;text-align: center;}#sk-49e4ad84-6817-4008-9515-b8170d0e2e81 label.sk-toggleable__label-arrow:before {content: \"▸\";float: left;margin-right: 0.25em;color: #696969;}#sk-49e4ad84-6817-4008-9515-b8170d0e2e81 label.sk-toggleable__label-arrow:hover:before {color: black;}#sk-49e4ad84-6817-4008-9515-b8170d0e2e81 div.sk-estimator:hover label.sk-toggleable__label-arrow:before {color: black;}#sk-49e4ad84-6817-4008-9515-b8170d0e2e81 div.sk-toggleable__content {max-height: 0;max-width: 0;overflow: hidden;text-align: left;background-color: #f0f8ff;}#sk-49e4ad84-6817-4008-9515-b8170d0e2e81 div.sk-toggleable__content pre {margin: 0.2em;color: black;border-radius: 0.25em;background-color: #f0f8ff;}#sk-49e4ad84-6817-4008-9515-b8170d0e2e81 input.sk-toggleable__control:checked~div.sk-toggleable__content {max-height: 200px;max-width: 100%;overflow: auto;}#sk-49e4ad84-6817-4008-9515-b8170d0e2e81 input.sk-toggleable__control:checked~label.sk-toggleable__label-arrow:before {content: \"▾\";}#sk-49e4ad84-6817-4008-9515-b8170d0e2e81 div.sk-estimator input.sk-toggleable__control:checked~label.sk-toggleable__label {background-color: #d4ebff;}#sk-49e4ad84-6817-4008-9515-b8170d0e2e81 div.sk-label input.sk-toggleable__control:checked~label.sk-toggleable__label {background-color: #d4ebff;}#sk-49e4ad84-6817-4008-9515-b8170d0e2e81 input.sk-hidden--visually {border: 0;clip: rect(1px 1px 1px 1px);clip: rect(1px, 1px, 1px, 1px);height: 1px;margin: -1px;overflow: hidden;padding: 0;position: absolute;width: 1px;}#sk-49e4ad84-6817-4008-9515-b8170d0e2e81 div.sk-estimator {font-family: monospace;background-color: #f0f8ff;border: 1px dotted black;border-radius: 0.25em;box-sizing: border-box;margin-bottom: 0.5em;}#sk-49e4ad84-6817-4008-9515-b8170d0e2e81 div.sk-estimator:hover {background-color: #d4ebff;}#sk-49e4ad84-6817-4008-9515-b8170d0e2e81 div.sk-parallel-item::after {content: \"\";width: 100%;border-bottom: 1px solid gray;flex-grow: 1;}#sk-49e4ad84-6817-4008-9515-b8170d0e2e81 div.sk-label:hover label.sk-toggleable__label {background-color: #d4ebff;}#sk-49e4ad84-6817-4008-9515-b8170d0e2e81 div.sk-serial::before {content: \"\";position: absolute;border-left: 1px solid gray;box-sizing: border-box;top: 2em;bottom: 0;left: 50%;}#sk-49e4ad84-6817-4008-9515-b8170d0e2e81 div.sk-serial {display: flex;flex-direction: column;align-items: center;background-color: white;padding-right: 0.2em;padding-left: 0.2em;}#sk-49e4ad84-6817-4008-9515-b8170d0e2e81 div.sk-item {z-index: 1;}#sk-49e4ad84-6817-4008-9515-b8170d0e2e81 div.sk-parallel {display: flex;align-items: stretch;justify-content: center;background-color: white;}#sk-49e4ad84-6817-4008-9515-b8170d0e2e81 div.sk-parallel::before {content: \"\";position: absolute;border-left: 1px solid gray;box-sizing: border-box;top: 2em;bottom: 0;left: 50%;}#sk-49e4ad84-6817-4008-9515-b8170d0e2e81 div.sk-parallel-item {display: flex;flex-direction: column;position: relative;background-color: white;}#sk-49e4ad84-6817-4008-9515-b8170d0e2e81 div.sk-parallel-item:first-child::after {align-self: flex-end;width: 50%;}#sk-49e4ad84-6817-4008-9515-b8170d0e2e81 div.sk-parallel-item:last-child::after {align-self: flex-start;width: 50%;}#sk-49e4ad84-6817-4008-9515-b8170d0e2e81 div.sk-parallel-item:only-child::after {width: 0;}#sk-49e4ad84-6817-4008-9515-b8170d0e2e81 div.sk-dashed-wrapped {border: 1px dashed gray;margin: 0 0.4em 0.5em 0.4em;box-sizing: border-box;padding-bottom: 0.4em;background-color: white;position: relative;}#sk-49e4ad84-6817-4008-9515-b8170d0e2e81 div.sk-label label {font-family: monospace;font-weight: bold;background-color: white;display: inline-block;line-height: 1.2em;}#sk-49e4ad84-6817-4008-9515-b8170d0e2e81 div.sk-label-container {position: relative;z-index: 2;text-align: center;}#sk-49e4ad84-6817-4008-9515-b8170d0e2e81 div.sk-container {/* jupyter's `normalize.less` sets `[hidden] { display: none; }` but bootstrap.min.css set `[hidden] { display: none !important; }` so we also need the `!important` here to be able to override the default hidden behavior on the sphinx rendered scikit-learn.org. See: https://github.com/scikit-learn/scikit-learn/issues/21755 */display: inline-block !important;position: relative;}#sk-49e4ad84-6817-4008-9515-b8170d0e2e81 div.sk-text-repr-fallback {display: none;}</style><div id=\"sk-49e4ad84-6817-4008-9515-b8170d0e2e81\" class=\"sk-top-container\"><div class=\"sk-text-repr-fallback\"><pre>Pipeline(steps=[(&#x27;preprocessing&#x27;,\n",
       "                 ColumnTransformer(remainder=&#x27;passthrough&#x27;,\n",
       "                                   transformers=[(&#x27;num_transform&#x27;,\n",
       "                                                  Pipeline(steps=[(&#x27;log_feats&#x27;,\n",
       "                                                                   FunctionTransformer(func=&lt;function log_transform at 0x28a652700&gt;)),\n",
       "                                                                  (&#x27;scaler&#x27;,\n",
       "                                                                   StandardScaler())]),\n",
       "                                                  [&#x27;LoanAmount&#x27;,\n",
       "                                                   &#x27;Total_Income&#x27;]),\n",
       "                                                 (&#x27;dependents_transforme&#x27;,\n",
       "                                                  FunctionTransformer(func=&lt;function Dependents_transform at 0x28a652e50&gt;),\n",
       "                                                  [&#x27;Dependents&#x27;]),\n",
       "                                                 (&#x27;loan_transform&#x27;,\n",
       "                                                  FunctionTransformer(func=&lt;function Loan_term at 0x28a6529d0&gt;),\n",
       "                                                  [&#x27;Loan_Amount_Term&#x27;]),\n",
       "                                                 (&#x27;label_encoder&#x27;,\n",
       "                                                  CustomLabelEncode(),\n",
       "                                                  [&#x27;Gender&#x27;, &#x27;Married&#x27;,\n",
       "                                                   &#x27;Self_Employed&#x27;, &#x27;Education&#x27;,\n",
       "                                                   &#x27;Property_Area&#x27;])])),\n",
       "                (&#x27;features&#x27;,\n",
       "                 FeatureUnion(transformer_list=[(&#x27;pca&#x27;, PCA()),\n",
       "                                                (&#x27;select_best&#x27;,\n",
       "                                                 SelectKBest())])),\n",
       "                (&#x27;classifier&#x27;, RidgeClassifier())])</pre><b>Please rerun this cell to show the HTML repr or trust the notebook.</b></div><div class=\"sk-container\" hidden><div class=\"sk-item sk-dashed-wrapped\"><div class=\"sk-label-container\"><div class=\"sk-label sk-toggleable\"><input class=\"sk-toggleable__control sk-hidden--visually\" id=\"78918bab-bb4d-4f4c-aa7d-a970a0c748e5\" type=\"checkbox\" ><label for=\"78918bab-bb4d-4f4c-aa7d-a970a0c748e5\" class=\"sk-toggleable__label sk-toggleable__label-arrow\">Pipeline</label><div class=\"sk-toggleable__content\"><pre>Pipeline(steps=[(&#x27;preprocessing&#x27;,\n",
       "                 ColumnTransformer(remainder=&#x27;passthrough&#x27;,\n",
       "                                   transformers=[(&#x27;num_transform&#x27;,\n",
       "                                                  Pipeline(steps=[(&#x27;log_feats&#x27;,\n",
       "                                                                   FunctionTransformer(func=&lt;function log_transform at 0x28a652700&gt;)),\n",
       "                                                                  (&#x27;scaler&#x27;,\n",
       "                                                                   StandardScaler())]),\n",
       "                                                  [&#x27;LoanAmount&#x27;,\n",
       "                                                   &#x27;Total_Income&#x27;]),\n",
       "                                                 (&#x27;dependents_transforme&#x27;,\n",
       "                                                  FunctionTransformer(func=&lt;function Dependents_transform at 0x28a652e50&gt;),\n",
       "                                                  [&#x27;Dependents&#x27;]),\n",
       "                                                 (&#x27;loan_transform&#x27;,\n",
       "                                                  FunctionTransformer(func=&lt;function Loan_term at 0x28a6529d0&gt;),\n",
       "                                                  [&#x27;Loan_Amount_Term&#x27;]),\n",
       "                                                 (&#x27;label_encoder&#x27;,\n",
       "                                                  CustomLabelEncode(),\n",
       "                                                  [&#x27;Gender&#x27;, &#x27;Married&#x27;,\n",
       "                                                   &#x27;Self_Employed&#x27;, &#x27;Education&#x27;,\n",
       "                                                   &#x27;Property_Area&#x27;])])),\n",
       "                (&#x27;features&#x27;,\n",
       "                 FeatureUnion(transformer_list=[(&#x27;pca&#x27;, PCA()),\n",
       "                                                (&#x27;select_best&#x27;,\n",
       "                                                 SelectKBest())])),\n",
       "                (&#x27;classifier&#x27;, RidgeClassifier())])</pre></div></div></div><div class=\"sk-serial\"><div class=\"sk-item sk-dashed-wrapped\"><div class=\"sk-label-container\"><div class=\"sk-label sk-toggleable\"><input class=\"sk-toggleable__control sk-hidden--visually\" id=\"ecd7a372-1b77-41b1-9cfd-621d3478e09e\" type=\"checkbox\" ><label for=\"ecd7a372-1b77-41b1-9cfd-621d3478e09e\" class=\"sk-toggleable__label sk-toggleable__label-arrow\">preprocessing: ColumnTransformer</label><div class=\"sk-toggleable__content\"><pre>ColumnTransformer(remainder=&#x27;passthrough&#x27;,\n",
       "                  transformers=[(&#x27;num_transform&#x27;,\n",
       "                                 Pipeline(steps=[(&#x27;log_feats&#x27;,\n",
       "                                                  FunctionTransformer(func=&lt;function log_transform at 0x28a652700&gt;)),\n",
       "                                                 (&#x27;scaler&#x27;, StandardScaler())]),\n",
       "                                 [&#x27;LoanAmount&#x27;, &#x27;Total_Income&#x27;]),\n",
       "                                (&#x27;dependents_transforme&#x27;,\n",
       "                                 FunctionTransformer(func=&lt;function Dependents_transform at 0x28a652e50&gt;),\n",
       "                                 [&#x27;Dependents&#x27;]),\n",
       "                                (&#x27;loan_transform&#x27;,\n",
       "                                 FunctionTransformer(func=&lt;function Loan_term at 0x28a6529d0&gt;),\n",
       "                                 [&#x27;Loan_Amount_Term&#x27;]),\n",
       "                                (&#x27;label_encoder&#x27;, CustomLabelEncode(),\n",
       "                                 [&#x27;Gender&#x27;, &#x27;Married&#x27;, &#x27;Self_Employed&#x27;,\n",
       "                                  &#x27;Education&#x27;, &#x27;Property_Area&#x27;])])</pre></div></div></div><div class=\"sk-parallel\"><div class=\"sk-parallel-item\"><div class=\"sk-item\"><div class=\"sk-label-container\"><div class=\"sk-label sk-toggleable\"><input class=\"sk-toggleable__control sk-hidden--visually\" id=\"b746464a-d56a-40b5-8885-b3abb0a117b0\" type=\"checkbox\" ><label for=\"b746464a-d56a-40b5-8885-b3abb0a117b0\" class=\"sk-toggleable__label sk-toggleable__label-arrow\">num_transform</label><div class=\"sk-toggleable__content\"><pre>[&#x27;LoanAmount&#x27;, &#x27;Total_Income&#x27;]</pre></div></div></div><div class=\"sk-serial\"><div class=\"sk-item\"><div class=\"sk-serial\"><div class=\"sk-item\"><div class=\"sk-estimator sk-toggleable\"><input class=\"sk-toggleable__control sk-hidden--visually\" id=\"941a0a77-367e-4774-abf3-bde51ec1bf4e\" type=\"checkbox\" ><label for=\"941a0a77-367e-4774-abf3-bde51ec1bf4e\" class=\"sk-toggleable__label sk-toggleable__label-arrow\">FunctionTransformer</label><div class=\"sk-toggleable__content\"><pre>FunctionTransformer(func=&lt;function log_transform at 0x28a652700&gt;)</pre></div></div></div><div class=\"sk-item\"><div class=\"sk-estimator sk-toggleable\"><input class=\"sk-toggleable__control sk-hidden--visually\" id=\"1fc192dd-2d62-421b-aa62-35846223ac99\" type=\"checkbox\" ><label for=\"1fc192dd-2d62-421b-aa62-35846223ac99\" class=\"sk-toggleable__label sk-toggleable__label-arrow\">StandardScaler</label><div class=\"sk-toggleable__content\"><pre>StandardScaler()</pre></div></div></div></div></div></div></div></div><div class=\"sk-parallel-item\"><div class=\"sk-item\"><div class=\"sk-label-container\"><div class=\"sk-label sk-toggleable\"><input class=\"sk-toggleable__control sk-hidden--visually\" id=\"1e2ad853-ebec-4e3e-83fe-40b1ba230f7a\" type=\"checkbox\" ><label for=\"1e2ad853-ebec-4e3e-83fe-40b1ba230f7a\" class=\"sk-toggleable__label sk-toggleable__label-arrow\">dependents_transforme</label><div class=\"sk-toggleable__content\"><pre>[&#x27;Dependents&#x27;]</pre></div></div></div><div class=\"sk-serial\"><div class=\"sk-item\"><div class=\"sk-estimator sk-toggleable\"><input class=\"sk-toggleable__control sk-hidden--visually\" id=\"26a8ec82-d819-433f-a5ff-9d2d1456437c\" type=\"checkbox\" ><label for=\"26a8ec82-d819-433f-a5ff-9d2d1456437c\" class=\"sk-toggleable__label sk-toggleable__label-arrow\">FunctionTransformer</label><div class=\"sk-toggleable__content\"><pre>FunctionTransformer(func=&lt;function Dependents_transform at 0x28a652e50&gt;)</pre></div></div></div></div></div></div><div class=\"sk-parallel-item\"><div class=\"sk-item\"><div class=\"sk-label-container\"><div class=\"sk-label sk-toggleable\"><input class=\"sk-toggleable__control sk-hidden--visually\" id=\"3bd2474f-d47a-4837-a0a2-84a827323ecd\" type=\"checkbox\" ><label for=\"3bd2474f-d47a-4837-a0a2-84a827323ecd\" class=\"sk-toggleable__label sk-toggleable__label-arrow\">loan_transform</label><div class=\"sk-toggleable__content\"><pre>[&#x27;Loan_Amount_Term&#x27;]</pre></div></div></div><div class=\"sk-serial\"><div class=\"sk-item\"><div class=\"sk-estimator sk-toggleable\"><input class=\"sk-toggleable__control sk-hidden--visually\" id=\"d5b5fc9f-35d7-45eb-8563-93405f5b27fe\" type=\"checkbox\" ><label for=\"d5b5fc9f-35d7-45eb-8563-93405f5b27fe\" class=\"sk-toggleable__label sk-toggleable__label-arrow\">FunctionTransformer</label><div class=\"sk-toggleable__content\"><pre>FunctionTransformer(func=&lt;function Loan_term at 0x28a6529d0&gt;)</pre></div></div></div></div></div></div><div class=\"sk-parallel-item\"><div class=\"sk-item\"><div class=\"sk-label-container\"><div class=\"sk-label sk-toggleable\"><input class=\"sk-toggleable__control sk-hidden--visually\" id=\"fc48e9ca-455f-4f0c-a3e9-d3bea0173665\" type=\"checkbox\" ><label for=\"fc48e9ca-455f-4f0c-a3e9-d3bea0173665\" class=\"sk-toggleable__label sk-toggleable__label-arrow\">label_encoder</label><div class=\"sk-toggleable__content\"><pre>[&#x27;Gender&#x27;, &#x27;Married&#x27;, &#x27;Self_Employed&#x27;, &#x27;Education&#x27;, &#x27;Property_Area&#x27;]</pre></div></div></div><div class=\"sk-serial\"><div class=\"sk-item\"><div class=\"sk-estimator sk-toggleable\"><input class=\"sk-toggleable__control sk-hidden--visually\" id=\"4902e05a-81ca-43b7-a7a7-b36fd8d7fc57\" type=\"checkbox\" ><label for=\"4902e05a-81ca-43b7-a7a7-b36fd8d7fc57\" class=\"sk-toggleable__label sk-toggleable__label-arrow\">CustomLabelEncode</label><div class=\"sk-toggleable__content\"><pre>CustomLabelEncode()</pre></div></div></div></div></div></div><div class=\"sk-parallel-item\"><div class=\"sk-item\"><div class=\"sk-label-container\"><div class=\"sk-label sk-toggleable\"><input class=\"sk-toggleable__control sk-hidden--visually\" id=\"e8330d18-219c-4cbd-aad8-c71fbed6ec58\" type=\"checkbox\" ><label for=\"e8330d18-219c-4cbd-aad8-c71fbed6ec58\" class=\"sk-toggleable__label sk-toggleable__label-arrow\">remainder</label><div class=\"sk-toggleable__content\"><pre>[&#x27;Credit_History&#x27;]</pre></div></div></div><div class=\"sk-serial\"><div class=\"sk-item\"><div class=\"sk-estimator sk-toggleable\"><input class=\"sk-toggleable__control sk-hidden--visually\" id=\"11c89125-67f1-4379-aaae-485d4aba8e58\" type=\"checkbox\" ><label for=\"11c89125-67f1-4379-aaae-485d4aba8e58\" class=\"sk-toggleable__label sk-toggleable__label-arrow\">passthrough</label><div class=\"sk-toggleable__content\"><pre>passthrough</pre></div></div></div></div></div></div></div></div><div class=\"sk-item sk-dashed-wrapped\"><div class=\"sk-label-container\"><div class=\"sk-label sk-toggleable\"><input class=\"sk-toggleable__control sk-hidden--visually\" id=\"92dc84dd-3072-4d38-99a8-9e559c109e90\" type=\"checkbox\" ><label for=\"92dc84dd-3072-4d38-99a8-9e559c109e90\" class=\"sk-toggleable__label sk-toggleable__label-arrow\">features: FeatureUnion</label><div class=\"sk-toggleable__content\"><pre>FeatureUnion(transformer_list=[(&#x27;pca&#x27;, PCA()), (&#x27;select_best&#x27;, SelectKBest())])</pre></div></div></div><div class=\"sk-parallel\"><div class=\"sk-parallel-item\"><div class=\"sk-item\"><div class=\"sk-label-container\"><div class=\"sk-label sk-toggleable\"><label>pca</label></div></div><div class=\"sk-serial\"><div class=\"sk-item\"><div class=\"sk-estimator sk-toggleable\"><input class=\"sk-toggleable__control sk-hidden--visually\" id=\"1f6d5770-ebac-40cf-b125-735712e573b3\" type=\"checkbox\" ><label for=\"1f6d5770-ebac-40cf-b125-735712e573b3\" class=\"sk-toggleable__label sk-toggleable__label-arrow\">PCA</label><div class=\"sk-toggleable__content\"><pre>PCA()</pre></div></div></div></div></div></div><div class=\"sk-parallel-item\"><div class=\"sk-item\"><div class=\"sk-label-container\"><div class=\"sk-label sk-toggleable\"><label>select_best</label></div></div><div class=\"sk-serial\"><div class=\"sk-item\"><div class=\"sk-estimator sk-toggleable\"><input class=\"sk-toggleable__control sk-hidden--visually\" id=\"1d185b91-ed32-455e-a7b0-79996a09ab88\" type=\"checkbox\" ><label for=\"1d185b91-ed32-455e-a7b0-79996a09ab88\" class=\"sk-toggleable__label sk-toggleable__label-arrow\">SelectKBest</label><div class=\"sk-toggleable__content\"><pre>SelectKBest()</pre></div></div></div></div></div></div></div></div><div class=\"sk-item\"><div class=\"sk-estimator sk-toggleable\"><input class=\"sk-toggleable__control sk-hidden--visually\" id=\"818816f5-9efa-4169-be70-934b8aadbe8a\" type=\"checkbox\" ><label for=\"818816f5-9efa-4169-be70-934b8aadbe8a\" class=\"sk-toggleable__label sk-toggleable__label-arrow\">RidgeClassifier</label><div class=\"sk-toggleable__content\"><pre>RidgeClassifier()</pre></div></div></div></div></div></div></div>"
      ],
      "text/plain": [
       "Pipeline(steps=[('preprocessing',\n",
       "                 ColumnTransformer(remainder='passthrough',\n",
       "                                   transformers=[('num_transform',\n",
       "                                                  Pipeline(steps=[('log_feats',\n",
       "                                                                   FunctionTransformer(func=<function log_transform at 0x28a652700>)),\n",
       "                                                                  ('scaler',\n",
       "                                                                   StandardScaler())]),\n",
       "                                                  ['LoanAmount',\n",
       "                                                   'Total_Income']),\n",
       "                                                 ('dependents_transforme',\n",
       "                                                  FunctionTransformer(func=<function Dependents_transform at 0x28a652e50>),\n",
       "                                                  ['Dependents']),\n",
       "                                                 ('loan_transform',\n",
       "                                                  FunctionTransformer(func=<function Loan_term at 0x28a6529d0>),\n",
       "                                                  ['Loan_Amount_Term']),\n",
       "                                                 ('label_encoder',\n",
       "                                                  CustomLabelEncode(),\n",
       "                                                  ['Gender', 'Married',\n",
       "                                                   'Self_Employed', 'Education',\n",
       "                                                   'Property_Area'])])),\n",
       "                ('features',\n",
       "                 FeatureUnion(transformer_list=[('pca', PCA()),\n",
       "                                                ('select_best',\n",
       "                                                 SelectKBest())])),\n",
       "                ('classifier', RidgeClassifier())])"
      ]
     },
     "execution_count": 350,
     "metadata": {},
     "output_type": "execute_result"
    }
   ],
   "source": [
    "main_pipeline"
   ]
  },
  {
   "cell_type": "code",
   "execution_count": 348,
   "id": "c0648cea",
   "metadata": {},
   "outputs": [
    {
     "data": {
      "text/plain": [
       "0.7642276422764228"
      ]
     },
     "execution_count": 348,
     "metadata": {},
     "output_type": "execute_result"
    }
   ],
   "source": [
    "main_pipeline.score(X_test, y_test)"
   ]
  },
  {
   "cell_type": "code",
   "execution_count": 351,
   "id": "1e4771e9",
   "metadata": {},
   "outputs": [],
   "source": [
    "# saving the model\n",
    "import pickle\n",
    "\n",
    "pickle.dump(main_pipeline, open('/Users/hople/Desktop/Bootcamp Lectures/week_7/mini-project-4/Model_Pickle/credit_classifier.pkl', 'wb'))"
   ]
  },
  {
   "cell_type": "code",
   "execution_count": 352,
   "id": "c4177929",
   "metadata": {},
   "outputs": [],
   "source": [
    "# importing models\n",
    "with open('/Users/hople/Desktop/Bootcamp Lectures/week_7/mini-project-4/Model_Pickle/credit_classifier.pkl', 'rb') as f:\n",
    "   credit_predict = pickle.load(f)"
   ]
  },
  {
   "cell_type": "code",
   "execution_count": 388,
   "id": "6254d90b",
   "metadata": {},
   "outputs": [
    {
     "data": {
      "text/plain": [
       "array([0])"
      ]
     },
     "execution_count": 388,
     "metadata": {},
     "output_type": "execute_result"
    }
   ],
   "source": [
    "credit_predict.predict(pd.DataFrame(X_test_1.to_dict()))"
   ]
  },
  {
   "cell_type": "code",
   "execution_count": 382,
   "id": "9aa122dd",
   "metadata": {},
   "outputs": [],
   "source": [
    "X_test_1 = pd.DataFrame(X_test.iloc[6:7,:])"
   ]
  },
  {
   "cell_type": "code",
   "execution_count": 399,
   "id": "1752d6a6",
   "metadata": {},
   "outputs": [
    {
     "data": {
      "text/plain": [
       "array([0])"
      ]
     },
     "execution_count": 399,
     "metadata": {},
     "output_type": "execute_result"
    }
   ],
   "source": [
    "credit_predict.predict(X_test_1)"
   ]
  },
  {
   "cell_type": "code",
   "execution_count": 395,
   "id": "5e98135f",
   "metadata": {},
   "outputs": [],
   "source": [
    "\n",
    "json_data = [\n",
    "    {\n",
    "    \"Gender\" : \"Male\",\n",
    "    \"Married\" : \"Yes\",\n",
    "    \"Dependents\" : \"3+\",\n",
    "    \"Education\" : \"Not Graduate\",\n",
    "    \"Self_Employed\" : \"No\",\n",
    "    \"LoanAmount\" : 70,\n",
    "    \"Loan_Amount_Term\" : 180.0,\n",
    "    \"Credit_History\" : 0,\n",
    "    \"Property_Area\" : \"Urban\",\n",
    "    \"Total_Income\" : 4611,\n",
    "    }\n",
    "]"
   ]
  },
  {
   "cell_type": "code",
   "execution_count": 396,
   "id": "05431e67",
   "metadata": {},
   "outputs": [],
   "source": [
    "X_test_2 = pd.DataFrame(json_data)"
   ]
  },
  {
   "cell_type": "code",
   "execution_count": null,
   "id": "b31ccb05",
   "metadata": {},
   "outputs": [],
   "source": []
  }
 ],
 "metadata": {
  "kernelspec": {
   "display_name": "Python 3 (ipykernel)",
   "language": "python",
   "name": "python3"
  },
  "language_info": {
   "codemirror_mode": {
    "name": "ipython",
    "version": 3
   },
   "file_extension": ".py",
   "mimetype": "text/x-python",
   "name": "python",
   "nbconvert_exporter": "python",
   "pygments_lexer": "ipython3",
   "version": "3.9.13"
  }
 },
 "nbformat": 4,
 "nbformat_minor": 5
}
